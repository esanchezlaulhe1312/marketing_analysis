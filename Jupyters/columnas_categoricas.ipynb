{
 "cells": [
  {
   "cell_type": "code",
   "execution_count": 1,
   "id": "a3ad4029",
   "metadata": {},
   "outputs": [],
   "source": [
    "import pandas as pd\n",
    "# import sys(...) es para importar el archivo .py de soporte que hemos creado en la carpeta SRC para guardar las funciones -de este modo busca en una carpeta anterior\n",
    "import sys\n",
    "sys.path.append(\"..\")\n",
    "from SRC import sp_limpieza as sp\n",
    "import numpy as np"
   ]
  },
  {
   "cell_type": "code",
   "execution_count": 2,
   "id": "cd4e6ba7",
   "metadata": {},
   "outputs": [
    {
     "data": {
      "application/vnd.microsoft.datawrangler.viewer.v0+json": {
       "columns": [
        {
         "name": "index",
         "rawType": "int64",
         "type": "integer"
        },
        {
         "name": "campaign_id",
         "rawType": "int64",
         "type": "integer"
        },
        {
         "name": "company",
         "rawType": "object",
         "type": "unknown"
        },
        {
         "name": "campaign_type",
         "rawType": "object",
         "type": "unknown"
        },
        {
         "name": "duration",
         "rawType": "float64",
         "type": "float"
        },
        {
         "name": "channel_used",
         "rawType": "object",
         "type": "string"
        },
        {
         "name": "conversion_rate",
         "rawType": "float64",
         "type": "float"
        },
        {
         "name": "roi",
         "rawType": "float64",
         "type": "float"
        },
        {
         "name": "location",
         "rawType": "object",
         "type": "string"
        },
        {
         "name": "language",
         "rawType": "object",
         "type": "unknown"
        },
        {
         "name": "clicks",
         "rawType": "float64",
         "type": "float"
        },
        {
         "name": "impressions",
         "rawType": "float64",
         "type": "float"
        },
        {
         "name": "engagement_score",
         "rawType": "float64",
         "type": "float"
        },
        {
         "name": "customer_segment",
         "rawType": "object",
         "type": "string"
        },
        {
         "name": "date",
         "rawType": "object",
         "type": "string"
        },
        {
         "name": "total($)",
         "rawType": "float64",
         "type": "float"
        },
        {
         "name": "genre",
         "rawType": "object",
         "type": "unknown"
        },
        {
         "name": "ages",
         "rawType": "object",
         "type": "string"
        },
        {
         "name": "year",
         "rawType": "float64",
         "type": "float"
        },
        {
         "name": "month",
         "rawType": "float64",
         "type": "float"
        },
        {
         "name": "day_name",
         "rawType": "object",
         "type": "string"
        },
        {
         "name": "quarter",
         "rawType": "float64",
         "type": "float"
        }
       ],
       "conversionMethod": "pd.DataFrame",
       "ref": "1892bb3e-ccf0-4909-a6d5-d8da5a69feaf",
       "rows": [
        [
         "0",
         "1",
         "innovate_industries",
         null,
         "30.0",
         "google_ads",
         "0.0404",
         "6.29",
         "chicago",
         "spanish",
         null,
         "19221922.0",
         "66.0",
         "health_&_wellness",
         "2021-01-01",
         "16174.0",
         "men",
         "18-24",
         "2021.0",
         "1.0",
         "friday",
         "1.0"
        ],
        [
         "1",
         "2",
         "nexgen_systems",
         "email",
         "60.0",
         "google_ads",
         "0.1212",
         "5.61",
         "new_york",
         "german",
         "116.0",
         "7523.0",
         "7.0",
         "fashionistas",
         "2021-01-02",
         "11566.0",
         "women",
         "35-44",
         "2021.0",
         "1.0",
         "saturday",
         "1.0"
        ],
        [
         "2",
         "3",
         "alpha_innovations",
         "influencer",
         "30.0",
         "youtube",
         "0.0707",
         "7.18",
         "los_angeles",
         "french",
         null,
         "7698.0",
         "11.0",
         "outdoor_adventurers",
         "2021-01-03",
         "10200.0",
         "men",
         "25-34",
         "2021.0",
         "1.0",
         "sunday",
         "1.0"
        ],
        [
         "3",
         "4",
         null,
         "display",
         "60.0",
         "youtube",
         "0.1111",
         null,
         "miami",
         "mandarin",
         "217.0",
         null,
         "7.0",
         "health_&_wellness",
         "2021-01-04",
         "12724.0",
         null,
         "all_ages",
         "2021.0",
         "1.0",
         "monday",
         "1.0"
        ],
        [
         "4",
         "5",
         "nexgen_systems",
         "email",
         "15.0",
         "youtube",
         "0.0505",
         "66.55",
         "los_angeles",
         null,
         "379379.0",
         "4201.0",
         "33.0",
         "health_&_wellness",
         "2021-01-05",
         "16452.0",
         "men",
         "25-34",
         "2021.0",
         "1.0",
         "tuesday",
         "1.0"
        ]
       ],
       "shape": {
        "columns": 21,
        "rows": 5
       }
      },
      "text/html": [
       "<div>\n",
       "<style scoped>\n",
       "    .dataframe tbody tr th:only-of-type {\n",
       "        vertical-align: middle;\n",
       "    }\n",
       "\n",
       "    .dataframe tbody tr th {\n",
       "        vertical-align: top;\n",
       "    }\n",
       "\n",
       "    .dataframe thead th {\n",
       "        text-align: right;\n",
       "    }\n",
       "</style>\n",
       "<table border=\"1\" class=\"dataframe\">\n",
       "  <thead>\n",
       "    <tr style=\"text-align: right;\">\n",
       "      <th></th>\n",
       "      <th>campaign_id</th>\n",
       "      <th>company</th>\n",
       "      <th>campaign_type</th>\n",
       "      <th>duration</th>\n",
       "      <th>channel_used</th>\n",
       "      <th>conversion_rate</th>\n",
       "      <th>roi</th>\n",
       "      <th>location</th>\n",
       "      <th>language</th>\n",
       "      <th>clicks</th>\n",
       "      <th>...</th>\n",
       "      <th>engagement_score</th>\n",
       "      <th>customer_segment</th>\n",
       "      <th>date</th>\n",
       "      <th>total($)</th>\n",
       "      <th>genre</th>\n",
       "      <th>ages</th>\n",
       "      <th>year</th>\n",
       "      <th>month</th>\n",
       "      <th>day_name</th>\n",
       "      <th>quarter</th>\n",
       "    </tr>\n",
       "  </thead>\n",
       "  <tbody>\n",
       "    <tr>\n",
       "      <th>0</th>\n",
       "      <td>1</td>\n",
       "      <td>innovate_industries</td>\n",
       "      <td>NaN</td>\n",
       "      <td>30.0</td>\n",
       "      <td>google_ads</td>\n",
       "      <td>0.0404</td>\n",
       "      <td>6.29</td>\n",
       "      <td>chicago</td>\n",
       "      <td>spanish</td>\n",
       "      <td>NaN</td>\n",
       "      <td>...</td>\n",
       "      <td>66.0</td>\n",
       "      <td>health_&amp;_wellness</td>\n",
       "      <td>2021-01-01</td>\n",
       "      <td>16174.0</td>\n",
       "      <td>men</td>\n",
       "      <td>18-24</td>\n",
       "      <td>2021.0</td>\n",
       "      <td>1.0</td>\n",
       "      <td>friday</td>\n",
       "      <td>1.0</td>\n",
       "    </tr>\n",
       "    <tr>\n",
       "      <th>1</th>\n",
       "      <td>2</td>\n",
       "      <td>nexgen_systems</td>\n",
       "      <td>email</td>\n",
       "      <td>60.0</td>\n",
       "      <td>google_ads</td>\n",
       "      <td>0.1212</td>\n",
       "      <td>5.61</td>\n",
       "      <td>new_york</td>\n",
       "      <td>german</td>\n",
       "      <td>116.0</td>\n",
       "      <td>...</td>\n",
       "      <td>7.0</td>\n",
       "      <td>fashionistas</td>\n",
       "      <td>2021-01-02</td>\n",
       "      <td>11566.0</td>\n",
       "      <td>women</td>\n",
       "      <td>35-44</td>\n",
       "      <td>2021.0</td>\n",
       "      <td>1.0</td>\n",
       "      <td>saturday</td>\n",
       "      <td>1.0</td>\n",
       "    </tr>\n",
       "    <tr>\n",
       "      <th>2</th>\n",
       "      <td>3</td>\n",
       "      <td>alpha_innovations</td>\n",
       "      <td>influencer</td>\n",
       "      <td>30.0</td>\n",
       "      <td>youtube</td>\n",
       "      <td>0.0707</td>\n",
       "      <td>7.18</td>\n",
       "      <td>los_angeles</td>\n",
       "      <td>french</td>\n",
       "      <td>NaN</td>\n",
       "      <td>...</td>\n",
       "      <td>11.0</td>\n",
       "      <td>outdoor_adventurers</td>\n",
       "      <td>2021-01-03</td>\n",
       "      <td>10200.0</td>\n",
       "      <td>men</td>\n",
       "      <td>25-34</td>\n",
       "      <td>2021.0</td>\n",
       "      <td>1.0</td>\n",
       "      <td>sunday</td>\n",
       "      <td>1.0</td>\n",
       "    </tr>\n",
       "    <tr>\n",
       "      <th>3</th>\n",
       "      <td>4</td>\n",
       "      <td>NaN</td>\n",
       "      <td>display</td>\n",
       "      <td>60.0</td>\n",
       "      <td>youtube</td>\n",
       "      <td>0.1111</td>\n",
       "      <td>NaN</td>\n",
       "      <td>miami</td>\n",
       "      <td>mandarin</td>\n",
       "      <td>217.0</td>\n",
       "      <td>...</td>\n",
       "      <td>7.0</td>\n",
       "      <td>health_&amp;_wellness</td>\n",
       "      <td>2021-01-04</td>\n",
       "      <td>12724.0</td>\n",
       "      <td>NaN</td>\n",
       "      <td>all_ages</td>\n",
       "      <td>2021.0</td>\n",
       "      <td>1.0</td>\n",
       "      <td>monday</td>\n",
       "      <td>1.0</td>\n",
       "    </tr>\n",
       "    <tr>\n",
       "      <th>4</th>\n",
       "      <td>5</td>\n",
       "      <td>nexgen_systems</td>\n",
       "      <td>email</td>\n",
       "      <td>15.0</td>\n",
       "      <td>youtube</td>\n",
       "      <td>0.0505</td>\n",
       "      <td>66.55</td>\n",
       "      <td>los_angeles</td>\n",
       "      <td>NaN</td>\n",
       "      <td>379379.0</td>\n",
       "      <td>...</td>\n",
       "      <td>33.0</td>\n",
       "      <td>health_&amp;_wellness</td>\n",
       "      <td>2021-01-05</td>\n",
       "      <td>16452.0</td>\n",
       "      <td>men</td>\n",
       "      <td>25-34</td>\n",
       "      <td>2021.0</td>\n",
       "      <td>1.0</td>\n",
       "      <td>tuesday</td>\n",
       "      <td>1.0</td>\n",
       "    </tr>\n",
       "  </tbody>\n",
       "</table>\n",
       "<p>5 rows × 21 columns</p>\n",
       "</div>"
      ],
      "text/plain": [
       "   campaign_id              company campaign_type  duration channel_used  \\\n",
       "0            1  innovate_industries           NaN      30.0   google_ads   \n",
       "1            2       nexgen_systems         email      60.0   google_ads   \n",
       "2            3    alpha_innovations    influencer      30.0      youtube   \n",
       "3            4                  NaN       display      60.0      youtube   \n",
       "4            5       nexgen_systems         email      15.0      youtube   \n",
       "\n",
       "   conversion_rate    roi     location  language    clicks  ...  \\\n",
       "0           0.0404   6.29      chicago   spanish       NaN  ...   \n",
       "1           0.1212   5.61     new_york    german     116.0  ...   \n",
       "2           0.0707   7.18  los_angeles    french       NaN  ...   \n",
       "3           0.1111    NaN        miami  mandarin     217.0  ...   \n",
       "4           0.0505  66.55  los_angeles       NaN  379379.0  ...   \n",
       "\n",
       "   engagement_score     customer_segment        date total($)  genre  \\\n",
       "0              66.0    health_&_wellness  2021-01-01  16174.0    men   \n",
       "1               7.0         fashionistas  2021-01-02  11566.0  women   \n",
       "2              11.0  outdoor_adventurers  2021-01-03  10200.0    men   \n",
       "3               7.0    health_&_wellness  2021-01-04  12724.0    NaN   \n",
       "4              33.0    health_&_wellness  2021-01-05  16452.0    men   \n",
       "\n",
       "       ages    year  month  day_name quarter  \n",
       "0     18-24  2021.0    1.0    friday     1.0  \n",
       "1     35-44  2021.0    1.0  saturday     1.0  \n",
       "2     25-34  2021.0    1.0    sunday     1.0  \n",
       "3  all_ages  2021.0    1.0    monday     1.0  \n",
       "4     25-34  2021.0    1.0   tuesday     1.0  \n",
       "\n",
       "[5 rows x 21 columns]"
      ]
     },
     "execution_count": 2,
     "metadata": {},
     "output_type": "execute_result"
    }
   ],
   "source": [
    "df_limpio=pd.read_csv(\"../Data/datos_limpios.csv\")\n",
    "df_limpio.head(5)"
   ]
  },
  {
   "cell_type": "code",
   "execution_count": 3,
   "id": "605ddd50",
   "metadata": {},
   "outputs": [
    {
     "data": {
      "text/plain": [
       "campaign_id             0\n",
       "company             15181\n",
       "campaign_type       18380\n",
       "duration            18606\n",
       "channel_used        22494\n",
       "conversion_rate      9444\n",
       "roi                 36476\n",
       "location            25372\n",
       "language            27008\n",
       "clicks              31179\n",
       "impressions         21448\n",
       "engagement_score    23864\n",
       "customer_segment    13152\n",
       "date                 6908\n",
       "total($)             8083\n",
       "genre               64857\n",
       "ages                28614\n",
       "year                 6908\n",
       "month                6908\n",
       "day_name             6908\n",
       "quarter              6908\n",
       "dtype: int64"
      ]
     },
     "execution_count": 3,
     "metadata": {},
     "output_type": "execute_result"
    }
   ],
   "source": [
    "numero_nulos=df_limpio.isnull().sum()\n",
    "numero_nulos"
   ]
  },
  {
   "cell_type": "code",
   "execution_count": 4,
   "id": "2f492cf8",
   "metadata": {},
   "outputs": [
    {
     "data": {
      "text/plain": [
       "campaign_id          0.000000\n",
       "company              7.231975\n",
       "campaign_type        8.755925\n",
       "duration             8.863588\n",
       "channel_used        10.715766\n",
       "conversion_rate      4.498964\n",
       "roi                 17.376557\n",
       "location            12.086797\n",
       "language            12.866160\n",
       "clicks              14.853155\n",
       "impressions         10.217469\n",
       "engagement_score    11.368411\n",
       "customer_segment     6.265393\n",
       "date                 3.290856\n",
       "total($)             3.850606\n",
       "genre               30.896792\n",
       "ages                13.631232\n",
       "year                 3.290856\n",
       "month                3.290856\n",
       "day_name             3.290856\n",
       "quarter              3.290856\n",
       "dtype: float64"
      ]
     },
     "execution_count": 4,
     "metadata": {},
     "output_type": "execute_result"
    }
   ],
   "source": [
    "porcentaje_nulos = (df_limpio.isnull().sum() / df_limpio.shape[0])*100\n",
    "porcentaje_nulos"
   ]
  }
 ],
 "metadata": {
  "kernelspec": {
   "display_name": "venv",
   "language": "python",
   "name": "python3"
  },
  "language_info": {
   "codemirror_mode": {
    "name": "ipython",
    "version": 3
   },
   "file_extension": ".py",
   "mimetype": "text/x-python",
   "name": "python",
   "nbconvert_exporter": "python",
   "pygments_lexer": "ipython3",
   "version": "3.12.5"
  }
 },
 "nbformat": 4,
 "nbformat_minor": 5
}
