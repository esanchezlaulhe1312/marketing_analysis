{
 "cells": [
  {
   "cell_type": "markdown",
   "metadata": {},
   "source": [
    "# Análisis preliminar del conjunto de datos"
   ]
  },
  {
   "cell_type": "code",
   "execution_count": 1,
   "metadata": {},
   "outputs": [],
   "source": [
    "import pandas as pd"
   ]
  },
  {
   "cell_type": "code",
   "execution_count": 2,
   "metadata": {},
   "outputs": [
    {
     "data": {
      "application/vnd.microsoft.datawrangler.viewer.v0+json": {
       "columns": [
        {
         "name": "index",
         "rawType": "int64",
         "type": "integer"
        },
        {
         "name": "Unnamed: 0",
         "rawType": "int64",
         "type": "integer"
        },
        {
         "name": "Campaign ID",
         "rawType": "int64",
         "type": "integer"
        },
        {
         "name": "Company",
         "rawType": "object",
         "type": "unknown"
        },
        {
         "name": "Campaign Type",
         "rawType": "object",
         "type": "unknown"
        },
        {
         "name": "Target Audience",
         "rawType": "object",
         "type": "string"
        },
        {
         "name": "Duration",
         "rawType": "object",
         "type": "string"
        },
        {
         "name": "Channel Used",
         "rawType": "object",
         "type": "string"
        },
        {
         "name": "Conversion Rate",
         "rawType": "object",
         "type": "string"
        },
        {
         "name": "Acquisition Cost",
         "rawType": "object",
         "type": "string"
        },
        {
         "name": "ROI",
         "rawType": "object",
         "type": "unknown"
        },
        {
         "name": "Location",
         "rawType": "object",
         "type": "string"
        },
        {
         "name": "Language",
         "rawType": "object",
         "type": "unknown"
        },
        {
         "name": "Clicks",
         "rawType": "object",
         "type": "unknown"
        },
        {
         "name": "Impressions",
         "rawType": "object",
         "type": "unknown"
        },
        {
         "name": "Engagement Score",
         "rawType": "object",
         "type": "string"
        },
        {
         "name": "Customer Segment",
         "rawType": "object",
         "type": "string"
        },
        {
         "name": "Date",
         "rawType": "object",
         "type": "string"
        },
        {
         "name": "Total($)",
         "rawType": "object",
         "type": "string"
        }
       ],
       "conversionMethod": "pd.DataFrame",
       "ref": "2e1abba7-853f-450f-a6d1-854367734ad7",
       "rows": [
        [
         "0",
         "0",
         "1",
         "Innovate Industries",
         null,
         "Men 18-24",
         "30 days",
         "Google Ads",
         "00.0404",
         "$16,174.00",
         "6,29",
         "Chicago",
         "Spanish",
         null,
         "19221922.00",
         "66.00",
         "Health & Wellness",
         "2021-01-01",
         "$16,174.00"
        ],
        [
         "1",
         "1",
         "2",
         "NexGen Systems",
         "Email",
         "Women 35-44",
         "60 days",
         "Google Ads",
         "00.1212",
         "$11,566.00",
         "5,61",
         "New York",
         "German",
         "116,0",
         "7523,0",
         "7,0",
         "Fashionistas",
         "2021-01-02",
         "$11,566.00"
        ],
        [
         "2",
         "2",
         "3",
         "Alpha Innovations",
         "Influencer",
         "Men 25-34",
         "30 days",
         "YouTube",
         "00.0707",
         "$10,200.00",
         "7,18",
         "Los Angeles",
         "French",
         null,
         "7698,0",
         "11.00",
         "Outdoor Adventurers",
         "2021-01-03",
         "$10,200.00"
        ],
        [
         "3",
         "3",
         "4",
         null,
         "Display",
         "All Ages",
         "60 days",
         "YouTube",
         "00.1111",
         "$12,724.00",
         null,
         "Miami",
         "Mandarin",
         "217,0",
         null,
         "7,0",
         "Health & Wellness",
         "2021-01-04",
         "$12,724.00"
        ],
        [
         "4",
         "4",
         "5",
         "NexGen Systems",
         "Email",
         "Men 25-34",
         "15 days",
         "YouTube",
         "00.0505",
         "$16,452.00",
         "66.55",
         "Los Angeles",
         null,
         "379379.00",
         "4201,0",
         "33.00",
         "Health & Wellness",
         "2021-01-05",
         "$16,452.00"
        ]
       ],
       "shape": {
        "columns": 18,
        "rows": 5
       }
      },
      "text/html": [
       "<div>\n",
       "<style scoped>\n",
       "    .dataframe tbody tr th:only-of-type {\n",
       "        vertical-align: middle;\n",
       "    }\n",
       "\n",
       "    .dataframe tbody tr th {\n",
       "        vertical-align: top;\n",
       "    }\n",
       "\n",
       "    .dataframe thead th {\n",
       "        text-align: right;\n",
       "    }\n",
       "</style>\n",
       "<table border=\"1\" class=\"dataframe\">\n",
       "  <thead>\n",
       "    <tr style=\"text-align: right;\">\n",
       "      <th></th>\n",
       "      <th>Unnamed: 0</th>\n",
       "      <th>Campaign ID</th>\n",
       "      <th>Company</th>\n",
       "      <th>Campaign Type</th>\n",
       "      <th>Target Audience</th>\n",
       "      <th>Duration</th>\n",
       "      <th>Channel Used</th>\n",
       "      <th>Conversion Rate</th>\n",
       "      <th>Acquisition Cost</th>\n",
       "      <th>ROI</th>\n",
       "      <th>Location</th>\n",
       "      <th>Language</th>\n",
       "      <th>Clicks</th>\n",
       "      <th>Impressions</th>\n",
       "      <th>Engagement Score</th>\n",
       "      <th>Customer Segment</th>\n",
       "      <th>Date</th>\n",
       "      <th>Total($)</th>\n",
       "    </tr>\n",
       "  </thead>\n",
       "  <tbody>\n",
       "    <tr>\n",
       "      <th>0</th>\n",
       "      <td>0</td>\n",
       "      <td>1</td>\n",
       "      <td>Innovate Industries</td>\n",
       "      <td>NaN</td>\n",
       "      <td>Men 18-24</td>\n",
       "      <td>30 days</td>\n",
       "      <td>Google Ads</td>\n",
       "      <td>00.0404</td>\n",
       "      <td>$16,174.00</td>\n",
       "      <td>6,29</td>\n",
       "      <td>Chicago</td>\n",
       "      <td>Spanish</td>\n",
       "      <td>NaN</td>\n",
       "      <td>19221922.00</td>\n",
       "      <td>66.00</td>\n",
       "      <td>Health &amp; Wellness</td>\n",
       "      <td>2021-01-01</td>\n",
       "      <td>$16,174.00</td>\n",
       "    </tr>\n",
       "    <tr>\n",
       "      <th>1</th>\n",
       "      <td>1</td>\n",
       "      <td>2</td>\n",
       "      <td>NexGen Systems</td>\n",
       "      <td>Email</td>\n",
       "      <td>Women 35-44</td>\n",
       "      <td>60 days</td>\n",
       "      <td>Google Ads</td>\n",
       "      <td>00.1212</td>\n",
       "      <td>$11,566.00</td>\n",
       "      <td>5,61</td>\n",
       "      <td>New York</td>\n",
       "      <td>German</td>\n",
       "      <td>116,0</td>\n",
       "      <td>7523,0</td>\n",
       "      <td>7,0</td>\n",
       "      <td>Fashionistas</td>\n",
       "      <td>2021-01-02</td>\n",
       "      <td>$11,566.00</td>\n",
       "    </tr>\n",
       "    <tr>\n",
       "      <th>2</th>\n",
       "      <td>2</td>\n",
       "      <td>3</td>\n",
       "      <td>Alpha Innovations</td>\n",
       "      <td>Influencer</td>\n",
       "      <td>Men 25-34</td>\n",
       "      <td>30 days</td>\n",
       "      <td>YouTube</td>\n",
       "      <td>00.0707</td>\n",
       "      <td>$10,200.00</td>\n",
       "      <td>7,18</td>\n",
       "      <td>Los Angeles</td>\n",
       "      <td>French</td>\n",
       "      <td>NaN</td>\n",
       "      <td>7698,0</td>\n",
       "      <td>11.00</td>\n",
       "      <td>Outdoor Adventurers</td>\n",
       "      <td>2021-01-03</td>\n",
       "      <td>$10,200.00</td>\n",
       "    </tr>\n",
       "    <tr>\n",
       "      <th>3</th>\n",
       "      <td>3</td>\n",
       "      <td>4</td>\n",
       "      <td>NaN</td>\n",
       "      <td>Display</td>\n",
       "      <td>All Ages</td>\n",
       "      <td>60 days</td>\n",
       "      <td>YouTube</td>\n",
       "      <td>00.1111</td>\n",
       "      <td>$12,724.00</td>\n",
       "      <td>NaN</td>\n",
       "      <td>Miami</td>\n",
       "      <td>Mandarin</td>\n",
       "      <td>217,0</td>\n",
       "      <td>NaN</td>\n",
       "      <td>7,0</td>\n",
       "      <td>Health &amp; Wellness</td>\n",
       "      <td>2021-01-04</td>\n",
       "      <td>$12,724.00</td>\n",
       "    </tr>\n",
       "    <tr>\n",
       "      <th>4</th>\n",
       "      <td>4</td>\n",
       "      <td>5</td>\n",
       "      <td>NexGen Systems</td>\n",
       "      <td>Email</td>\n",
       "      <td>Men 25-34</td>\n",
       "      <td>15 days</td>\n",
       "      <td>YouTube</td>\n",
       "      <td>00.0505</td>\n",
       "      <td>$16,452.00</td>\n",
       "      <td>66.55</td>\n",
       "      <td>Los Angeles</td>\n",
       "      <td>NaN</td>\n",
       "      <td>379379.00</td>\n",
       "      <td>4201,0</td>\n",
       "      <td>33.00</td>\n",
       "      <td>Health &amp; Wellness</td>\n",
       "      <td>2021-01-05</td>\n",
       "      <td>$16,452.00</td>\n",
       "    </tr>\n",
       "  </tbody>\n",
       "</table>\n",
       "</div>"
      ],
      "text/plain": [
       "   Unnamed: 0  Campaign ID              Company Campaign Type Target Audience  \\\n",
       "0           0            1  Innovate Industries           NaN       Men 18-24   \n",
       "1           1            2       NexGen Systems         Email     Women 35-44   \n",
       "2           2            3    Alpha Innovations    Influencer       Men 25-34   \n",
       "3           3            4                  NaN       Display        All Ages   \n",
       "4           4            5       NexGen Systems         Email       Men 25-34   \n",
       "\n",
       "  Duration Channel Used Conversion Rate Acquisition Cost    ROI     Location  \\\n",
       "0  30 days   Google Ads         00.0404       $16,174.00   6,29      Chicago   \n",
       "1  60 days   Google Ads         00.1212       $11,566.00   5,61     New York   \n",
       "2  30 days      YouTube         00.0707       $10,200.00   7,18  Los Angeles   \n",
       "3  60 days      YouTube         00.1111       $12,724.00    NaN        Miami   \n",
       "4  15 days      YouTube         00.0505       $16,452.00  66.55  Los Angeles   \n",
       "\n",
       "   Language     Clicks  Impressions Engagement Score     Customer Segment  \\\n",
       "0   Spanish        NaN  19221922.00            66.00    Health & Wellness   \n",
       "1    German      116,0       7523,0              7,0         Fashionistas   \n",
       "2    French        NaN       7698,0            11.00  Outdoor Adventurers   \n",
       "3  Mandarin      217,0          NaN              7,0    Health & Wellness   \n",
       "4       NaN  379379.00       4201,0            33.00    Health & Wellness   \n",
       "\n",
       "         Date    Total($)  \n",
       "0  2021-01-01  $16,174.00  \n",
       "1  2021-01-02  $11,566.00  \n",
       "2  2021-01-03  $10,200.00  \n",
       "3  2021-01-04  $12,724.00  \n",
       "4  2021-01-05  $16,452.00  "
      ]
     },
     "execution_count": 2,
     "metadata": {},
     "output_type": "execute_result"
    }
   ],
   "source": [
    "df_raw = pd.read_csv('../Data/marketing_campaign.csv')\n",
    "df_raw.head()"
   ]
  },
  {
   "cell_type": "code",
   "execution_count": 3,
   "metadata": {},
   "outputs": [
    {
     "name": "stdout",
     "output_type": "stream",
     "text": [
      "<class 'pandas.core.frame.DataFrame'>\n",
      "RangeIndex: 209915 entries, 0 to 209914\n",
      "Data columns (total 18 columns):\n",
      " #   Column            Non-Null Count   Dtype \n",
      "---  ------            --------------   ----- \n",
      " 0   Unnamed: 0        209915 non-null  int64 \n",
      " 1   Campaign ID       209915 non-null  int64 \n",
      " 2   Company           194734 non-null  object\n",
      " 3   Campaign Type     191535 non-null  object\n",
      " 4   Target Audience   181301 non-null  object\n",
      " 5   Duration          191309 non-null  object\n",
      " 6   Channel Used      187421 non-null  object\n",
      " 7   Conversion Rate   200471 non-null  object\n",
      " 8   Acquisition Cost  201832 non-null  object\n",
      " 9   ROI               173439 non-null  object\n",
      " 10  Location          184543 non-null  object\n",
      " 11  Language          182907 non-null  object\n",
      " 12  Clicks            178736 non-null  object\n",
      " 13  Impressions       188467 non-null  object\n",
      " 14  Engagement Score  186051 non-null  object\n",
      " 15  Customer Segment  196763 non-null  object\n",
      " 16  Date              203007 non-null  object\n",
      " 17  Total($)          201832 non-null  object\n",
      "dtypes: int64(2), object(16)\n",
      "memory usage: 28.8+ MB\n"
     ]
    }
   ],
   "source": [
    "df_raw.info()"
   ]
  },
  {
   "cell_type": "code",
   "execution_count": 4,
   "metadata": {},
   "outputs": [
    {
     "data": {
      "application/vnd.microsoft.datawrangler.viewer.v0+json": {
       "columns": [
        {
         "name": "index",
         "rawType": "int64",
         "type": "integer"
        },
        {
         "name": "Unnamed: 0",
         "rawType": "int64",
         "type": "integer"
        },
        {
         "name": "Campaign ID",
         "rawType": "int64",
         "type": "integer"
        },
        {
         "name": "Company",
         "rawType": "object",
         "type": "string"
        },
        {
         "name": "Campaign Type",
         "rawType": "object",
         "type": "string"
        },
        {
         "name": "Target Audience",
         "rawType": "object",
         "type": "string"
        },
        {
         "name": "Duration",
         "rawType": "object",
         "type": "string"
        },
        {
         "name": "Channel Used",
         "rawType": "object",
         "type": "unknown"
        },
        {
         "name": "Conversion Rate",
         "rawType": "object",
         "type": "string"
        },
        {
         "name": "Acquisition Cost",
         "rawType": "object",
         "type": "string"
        },
        {
         "name": "ROI",
         "rawType": "object",
         "type": "string"
        },
        {
         "name": "Location",
         "rawType": "object",
         "type": "string"
        },
        {
         "name": "Language",
         "rawType": "object",
         "type": "unknown"
        },
        {
         "name": "Clicks",
         "rawType": "object",
         "type": "unknown"
        },
        {
         "name": "Impressions",
         "rawType": "object",
         "type": "unknown"
        },
        {
         "name": "Engagement Score",
         "rawType": "object",
         "type": "string"
        },
        {
         "name": "Customer Segment",
         "rawType": "object",
         "type": "string"
        },
        {
         "name": "Date",
         "rawType": "object",
         "type": "string"
        },
        {
         "name": "Total($)",
         "rawType": "object",
         "type": "string"
        }
       ],
       "conversionMethod": "pd.DataFrame",
       "ref": "5418681a-5e62-49fc-8b04-bbb69afb602a",
       "rows": [
        [
         "209910",
         "209910",
         "105984",
         "Alpha Innovations",
         "Email",
         "Men 18-24",
         "30 days",
         "YouTube",
         "00.0202",
         "$9,180.00",
         "44.4747",
         "Chicago",
         "Spanish",
         null,
         "79087908.00",
         "77.00",
         "Outdoor Adventurers",
         "2021-05-14",
         "$9,180.00"
        ],
        [
         "209911",
         "209911",
         "186903",
         "DataTech Solutions",
         "Social Media",
         "Women 25-34",
         "60 days",
         "Website",
         "0,07",
         "$6,382.00",
         "5,05",
         "Los Angeles",
         null,
         "834834.00",
         "1774,0",
         "99.00",
         "Foodies",
         "2021-01-23",
         "$6,382.00"
        ],
        [
         "209912",
         "209912",
         "28288",
         "TechCorp",
         "Display",
         "Men 18-24",
         "60 days",
         null,
         "00.0303",
         "$18,155.00",
         "6,34",
         "Miami",
         "Mandarin",
         "314314.00",
         "61466146.00",
         "44.00",
         "Fashionistas",
         "2021-07-02",
         "$18,155.00"
        ],
        [
         "209913",
         "209913",
         "39333",
         "Innovate Industries",
         "Display",
         "Women 25-34",
         "15 days",
         "Google Ads",
         "00.0505",
         "$15,166.00",
         "33.4747",
         "Chicago",
         "German",
         "457457.00",
         null,
         "11.00",
         "Health & Wellness",
         "2021-10-05",
         "$15,166.00"
        ],
        [
         "209914",
         "209914",
         "102813",
         "NexGen Systems",
         "Social Media",
         "Men 25-34",
         "30 days",
         "Instagram",
         "00.0303",
         "$16,459.00",
         "2,85",
         "Houston",
         null,
         "747747.00",
         "50905090.00",
         "8,0",
         "Fashionistas",
         "2021-09-05",
         "$16,459.00"
        ]
       ],
       "shape": {
        "columns": 18,
        "rows": 5
       }
      },
      "text/html": [
       "<div>\n",
       "<style scoped>\n",
       "    .dataframe tbody tr th:only-of-type {\n",
       "        vertical-align: middle;\n",
       "    }\n",
       "\n",
       "    .dataframe tbody tr th {\n",
       "        vertical-align: top;\n",
       "    }\n",
       "\n",
       "    .dataframe thead th {\n",
       "        text-align: right;\n",
       "    }\n",
       "</style>\n",
       "<table border=\"1\" class=\"dataframe\">\n",
       "  <thead>\n",
       "    <tr style=\"text-align: right;\">\n",
       "      <th></th>\n",
       "      <th>Unnamed: 0</th>\n",
       "      <th>Campaign ID</th>\n",
       "      <th>Company</th>\n",
       "      <th>Campaign Type</th>\n",
       "      <th>Target Audience</th>\n",
       "      <th>Duration</th>\n",
       "      <th>Channel Used</th>\n",
       "      <th>Conversion Rate</th>\n",
       "      <th>Acquisition Cost</th>\n",
       "      <th>ROI</th>\n",
       "      <th>Location</th>\n",
       "      <th>Language</th>\n",
       "      <th>Clicks</th>\n",
       "      <th>Impressions</th>\n",
       "      <th>Engagement Score</th>\n",
       "      <th>Customer Segment</th>\n",
       "      <th>Date</th>\n",
       "      <th>Total($)</th>\n",
       "    </tr>\n",
       "  </thead>\n",
       "  <tbody>\n",
       "    <tr>\n",
       "      <th>209910</th>\n",
       "      <td>209910</td>\n",
       "      <td>105984</td>\n",
       "      <td>Alpha Innovations</td>\n",
       "      <td>Email</td>\n",
       "      <td>Men 18-24</td>\n",
       "      <td>30 days</td>\n",
       "      <td>YouTube</td>\n",
       "      <td>00.0202</td>\n",
       "      <td>$9,180.00</td>\n",
       "      <td>44.4747</td>\n",
       "      <td>Chicago</td>\n",
       "      <td>Spanish</td>\n",
       "      <td>NaN</td>\n",
       "      <td>79087908.00</td>\n",
       "      <td>77.00</td>\n",
       "      <td>Outdoor Adventurers</td>\n",
       "      <td>2021-05-14</td>\n",
       "      <td>$9,180.00</td>\n",
       "    </tr>\n",
       "    <tr>\n",
       "      <th>209911</th>\n",
       "      <td>209911</td>\n",
       "      <td>186903</td>\n",
       "      <td>DataTech Solutions</td>\n",
       "      <td>Social Media</td>\n",
       "      <td>Women 25-34</td>\n",
       "      <td>60 days</td>\n",
       "      <td>Website</td>\n",
       "      <td>0,07</td>\n",
       "      <td>$6,382.00</td>\n",
       "      <td>5,05</td>\n",
       "      <td>Los Angeles</td>\n",
       "      <td>NaN</td>\n",
       "      <td>834834.00</td>\n",
       "      <td>1774,0</td>\n",
       "      <td>99.00</td>\n",
       "      <td>Foodies</td>\n",
       "      <td>2021-01-23</td>\n",
       "      <td>$6,382.00</td>\n",
       "    </tr>\n",
       "    <tr>\n",
       "      <th>209912</th>\n",
       "      <td>209912</td>\n",
       "      <td>28288</td>\n",
       "      <td>TechCorp</td>\n",
       "      <td>Display</td>\n",
       "      <td>Men 18-24</td>\n",
       "      <td>60 days</td>\n",
       "      <td>NaN</td>\n",
       "      <td>00.0303</td>\n",
       "      <td>$18,155.00</td>\n",
       "      <td>6,34</td>\n",
       "      <td>Miami</td>\n",
       "      <td>Mandarin</td>\n",
       "      <td>314314.00</td>\n",
       "      <td>61466146.00</td>\n",
       "      <td>44.00</td>\n",
       "      <td>Fashionistas</td>\n",
       "      <td>2021-07-02</td>\n",
       "      <td>$18,155.00</td>\n",
       "    </tr>\n",
       "    <tr>\n",
       "      <th>209913</th>\n",
       "      <td>209913</td>\n",
       "      <td>39333</td>\n",
       "      <td>Innovate Industries</td>\n",
       "      <td>Display</td>\n",
       "      <td>Women 25-34</td>\n",
       "      <td>15 days</td>\n",
       "      <td>Google Ads</td>\n",
       "      <td>00.0505</td>\n",
       "      <td>$15,166.00</td>\n",
       "      <td>33.4747</td>\n",
       "      <td>Chicago</td>\n",
       "      <td>German</td>\n",
       "      <td>457457.00</td>\n",
       "      <td>NaN</td>\n",
       "      <td>11.00</td>\n",
       "      <td>Health &amp; Wellness</td>\n",
       "      <td>2021-10-05</td>\n",
       "      <td>$15,166.00</td>\n",
       "    </tr>\n",
       "    <tr>\n",
       "      <th>209914</th>\n",
       "      <td>209914</td>\n",
       "      <td>102813</td>\n",
       "      <td>NexGen Systems</td>\n",
       "      <td>Social Media</td>\n",
       "      <td>Men 25-34</td>\n",
       "      <td>30 days</td>\n",
       "      <td>Instagram</td>\n",
       "      <td>00.0303</td>\n",
       "      <td>$16,459.00</td>\n",
       "      <td>2,85</td>\n",
       "      <td>Houston</td>\n",
       "      <td>NaN</td>\n",
       "      <td>747747.00</td>\n",
       "      <td>50905090.00</td>\n",
       "      <td>8,0</td>\n",
       "      <td>Fashionistas</td>\n",
       "      <td>2021-09-05</td>\n",
       "      <td>$16,459.00</td>\n",
       "    </tr>\n",
       "  </tbody>\n",
       "</table>\n",
       "</div>"
      ],
      "text/plain": [
       "        Unnamed: 0  Campaign ID              Company Campaign Type  \\\n",
       "209910      209910       105984    Alpha Innovations         Email   \n",
       "209911      209911       186903   DataTech Solutions  Social Media   \n",
       "209912      209912        28288             TechCorp       Display   \n",
       "209913      209913        39333  Innovate Industries       Display   \n",
       "209914      209914       102813       NexGen Systems  Social Media   \n",
       "\n",
       "       Target Audience Duration Channel Used Conversion Rate Acquisition Cost  \\\n",
       "209910       Men 18-24  30 days      YouTube         00.0202        $9,180.00   \n",
       "209911     Women 25-34  60 days      Website            0,07        $6,382.00   \n",
       "209912       Men 18-24  60 days          NaN         00.0303       $18,155.00   \n",
       "209913     Women 25-34  15 days   Google Ads         00.0505       $15,166.00   \n",
       "209914       Men 25-34  30 days    Instagram         00.0303       $16,459.00   \n",
       "\n",
       "            ROI     Location  Language     Clicks  Impressions  \\\n",
       "209910  44.4747      Chicago   Spanish        NaN  79087908.00   \n",
       "209911     5,05  Los Angeles       NaN  834834.00       1774,0   \n",
       "209912     6,34        Miami  Mandarin  314314.00  61466146.00   \n",
       "209913  33.4747      Chicago    German  457457.00          NaN   \n",
       "209914     2,85      Houston       NaN  747747.00  50905090.00   \n",
       "\n",
       "       Engagement Score     Customer Segment        Date    Total($)  \n",
       "209910            77.00  Outdoor Adventurers  2021-05-14   $9,180.00  \n",
       "209911            99.00              Foodies  2021-01-23   $6,382.00  \n",
       "209912            44.00         Fashionistas  2021-07-02  $18,155.00  \n",
       "209913            11.00    Health & Wellness  2021-10-05  $15,166.00  \n",
       "209914              8,0         Fashionistas  2021-09-05  $16,459.00  "
      ]
     },
     "execution_count": 4,
     "metadata": {},
     "output_type": "execute_result"
    }
   ],
   "source": [
    "df_raw.tail()"
   ]
  },
  {
   "cell_type": "code",
   "execution_count": 5,
   "metadata": {},
   "outputs": [
    {
     "data": {
      "text/plain": [
       "(209915, 18)"
      ]
     },
     "execution_count": 5,
     "metadata": {},
     "output_type": "execute_result"
    }
   ],
   "source": [
    "df_raw.shape"
   ]
  },
  {
   "cell_type": "code",
   "execution_count": 6,
   "metadata": {},
   "outputs": [
    {
     "data": {
      "text/plain": [
       "Index(['Unnamed: 0', 'Campaign ID', 'Company', 'Campaign Type',\n",
       "       'Target Audience', 'Duration', 'Channel Used', 'Conversion Rate',\n",
       "       'Acquisition Cost', 'ROI', 'Location', 'Language', 'Clicks',\n",
       "       'Impressions', 'Engagement Score', 'Customer Segment', 'Date',\n",
       "       'Total($)'],\n",
       "      dtype='object')"
      ]
     },
     "execution_count": 6,
     "metadata": {},
     "output_type": "execute_result"
    }
   ],
   "source": [
    "df_raw.columns"
   ]
  },
  {
   "cell_type": "code",
   "execution_count": 7,
   "metadata": {},
   "outputs": [
    {
     "data": {
      "text/plain": [
       "Unnamed: 0           int64\n",
       "Campaign ID          int64\n",
       "Company             object\n",
       "Campaign Type       object\n",
       "Target Audience     object\n",
       "Duration            object\n",
       "Channel Used        object\n",
       "Conversion Rate     object\n",
       "Acquisition Cost    object\n",
       "ROI                 object\n",
       "Location            object\n",
       "Language            object\n",
       "Clicks              object\n",
       "Impressions         object\n",
       "Engagement Score    object\n",
       "Customer Segment    object\n",
       "Date                object\n",
       "Total($)            object\n",
       "dtype: object"
      ]
     },
     "execution_count": 7,
     "metadata": {},
     "output_type": "execute_result"
    }
   ],
   "source": [
    "df_raw.dtypes"
   ]
  },
  {
   "cell_type": "code",
   "execution_count": 8,
   "metadata": {},
   "outputs": [
    {
     "data": {
      "application/vnd.microsoft.datawrangler.viewer.v0+json": {
       "columns": [
        {
         "name": "index",
         "rawType": "int64",
         "type": "integer"
        },
        {
         "name": "Unnamed: 0",
         "rawType": "int64",
         "type": "integer"
        },
        {
         "name": "Campaign ID",
         "rawType": "int64",
         "type": "integer"
        },
        {
         "name": "Company",
         "rawType": "object",
         "type": "string"
        },
        {
         "name": "Campaign Type",
         "rawType": "object",
         "type": "string"
        },
        {
         "name": "Target Audience",
         "rawType": "object",
         "type": "string"
        },
        {
         "name": "Duration",
         "rawType": "object",
         "type": "string"
        },
        {
         "name": "Channel Used",
         "rawType": "object",
         "type": "string"
        },
        {
         "name": "Conversion Rate",
         "rawType": "object",
         "type": "string"
        },
        {
         "name": "Acquisition Cost",
         "rawType": "object",
         "type": "string"
        },
        {
         "name": "ROI",
         "rawType": "object",
         "type": "string"
        },
        {
         "name": "Location",
         "rawType": "object",
         "type": "string"
        },
        {
         "name": "Language",
         "rawType": "object",
         "type": "string"
        },
        {
         "name": "Clicks",
         "rawType": "object",
         "type": "string"
        },
        {
         "name": "Impressions",
         "rawType": "object",
         "type": "string"
        },
        {
         "name": "Engagement Score",
         "rawType": "object",
         "type": "string"
        },
        {
         "name": "Customer Segment",
         "rawType": "object",
         "type": "unknown"
        },
        {
         "name": "Date",
         "rawType": "object",
         "type": "string"
        },
        {
         "name": "Total($)",
         "rawType": "object",
         "type": "string"
        }
       ],
       "conversionMethod": "pd.DataFrame",
       "ref": "7f84000a-c990-4895-8195-b1668ed55f85",
       "rows": [
        [
         "108004",
         "108004",
         "108005",
         "TechCorp",
         "Influencer",
         "Men 25-34",
         "60 days",
         "Google Ads",
         "0,09",
         "$7,994.00",
         "77.0303",
         "New York",
         "Mandarin",
         "926926.00",
         "6880,0",
         "1010.00",
         null,
         "2021-11-26",
         "$7,994.00"
        ]
       ],
       "shape": {
        "columns": 18,
        "rows": 1
       }
      },
      "text/html": [
       "<div>\n",
       "<style scoped>\n",
       "    .dataframe tbody tr th:only-of-type {\n",
       "        vertical-align: middle;\n",
       "    }\n",
       "\n",
       "    .dataframe tbody tr th {\n",
       "        vertical-align: top;\n",
       "    }\n",
       "\n",
       "    .dataframe thead th {\n",
       "        text-align: right;\n",
       "    }\n",
       "</style>\n",
       "<table border=\"1\" class=\"dataframe\">\n",
       "  <thead>\n",
       "    <tr style=\"text-align: right;\">\n",
       "      <th></th>\n",
       "      <th>Unnamed: 0</th>\n",
       "      <th>Campaign ID</th>\n",
       "      <th>Company</th>\n",
       "      <th>Campaign Type</th>\n",
       "      <th>Target Audience</th>\n",
       "      <th>Duration</th>\n",
       "      <th>Channel Used</th>\n",
       "      <th>Conversion Rate</th>\n",
       "      <th>Acquisition Cost</th>\n",
       "      <th>ROI</th>\n",
       "      <th>Location</th>\n",
       "      <th>Language</th>\n",
       "      <th>Clicks</th>\n",
       "      <th>Impressions</th>\n",
       "      <th>Engagement Score</th>\n",
       "      <th>Customer Segment</th>\n",
       "      <th>Date</th>\n",
       "      <th>Total($)</th>\n",
       "    </tr>\n",
       "  </thead>\n",
       "  <tbody>\n",
       "    <tr>\n",
       "      <th>108004</th>\n",
       "      <td>108004</td>\n",
       "      <td>108005</td>\n",
       "      <td>TechCorp</td>\n",
       "      <td>Influencer</td>\n",
       "      <td>Men 25-34</td>\n",
       "      <td>60 days</td>\n",
       "      <td>Google Ads</td>\n",
       "      <td>0,09</td>\n",
       "      <td>$7,994.00</td>\n",
       "      <td>77.0303</td>\n",
       "      <td>New York</td>\n",
       "      <td>Mandarin</td>\n",
       "      <td>926926.00</td>\n",
       "      <td>6880,0</td>\n",
       "      <td>1010.00</td>\n",
       "      <td>NaN</td>\n",
       "      <td>2021-11-26</td>\n",
       "      <td>$7,994.00</td>\n",
       "    </tr>\n",
       "  </tbody>\n",
       "</table>\n",
       "</div>"
      ],
      "text/plain": [
       "        Unnamed: 0  Campaign ID   Company Campaign Type Target Audience  \\\n",
       "108004      108004       108005  TechCorp    Influencer       Men 25-34   \n",
       "\n",
       "       Duration Channel Used Conversion Rate Acquisition Cost      ROI  \\\n",
       "108004  60 days   Google Ads            0,09        $7,994.00  77.0303   \n",
       "\n",
       "        Location  Language     Clicks Impressions Engagement Score  \\\n",
       "108004  New York  Mandarin  926926.00      6880,0          1010.00   \n",
       "\n",
       "       Customer Segment        Date   Total($)  \n",
       "108004              NaN  2021-11-26  $7,994.00  "
      ]
     },
     "execution_count": 8,
     "metadata": {},
     "output_type": "execute_result"
    }
   ],
   "source": [
    "df_raw.sample()"
   ]
  },
  {
   "cell_type": "code",
   "execution_count": 9,
   "metadata": {},
   "outputs": [],
   "source": [
    "# Es necesario crear una copia del dataframe. Es con esta copia con la que trabajaremos dejando siempre intacta la original\n",
    "df_eda=df_raw.copy()"
   ]
  },
  {
   "cell_type": "code",
   "execution_count": 10,
   "metadata": {},
   "outputs": [
    {
     "data": {
      "text/plain": [
       "Index(['unnamed:_0', 'campaign_id', 'company', 'campaign_type',\n",
       "       'target_audience', 'duration', 'channel_used', 'conversion_rate',\n",
       "       'acquisition_cost', 'roi', 'location', 'language', 'clicks',\n",
       "       'impressions', 'engagement_score', 'customer_segment', 'date',\n",
       "       'total($)'],\n",
       "      dtype='object')"
      ]
     },
     "execution_count": 10,
     "metadata": {},
     "output_type": "execute_result"
    }
   ],
   "source": [
    "# Cambiar el nombre de las columnas a todo minusculas y sustituir espacios en blanco por _\n",
    "df_eda.columns=df_eda.columns.str.replace(\" \", \"_\").str.lower()\n",
    "df_eda.columns"
   ]
  },
  {
   "cell_type": "code",
   "execution_count": 11,
   "metadata": {},
   "outputs": [
    {
     "data": {
      "application/vnd.microsoft.datawrangler.viewer.v0+json": {
       "columns": [
        {
         "name": "index",
         "rawType": "int64",
         "type": "integer"
        },
        {
         "name": "unnamed:_0",
         "rawType": "int64",
         "type": "integer"
        },
        {
         "name": "campaign_id",
         "rawType": "int64",
         "type": "integer"
        },
        {
         "name": "company",
         "rawType": "object",
         "type": "string"
        },
        {
         "name": "campaign_type",
         "rawType": "object",
         "type": "string"
        },
        {
         "name": "target_audience",
         "rawType": "object",
         "type": "string"
        },
        {
         "name": "duration",
         "rawType": "object",
         "type": "string"
        },
        {
         "name": "channel_used",
         "rawType": "object",
         "type": "string"
        },
        {
         "name": "conversion_rate",
         "rawType": "object",
         "type": "string"
        },
        {
         "name": "acquisition_cost",
         "rawType": "object",
         "type": "string"
        },
        {
         "name": "roi",
         "rawType": "object",
         "type": "string"
        },
        {
         "name": "location",
         "rawType": "object",
         "type": "string"
        },
        {
         "name": "language",
         "rawType": "object",
         "type": "string"
        },
        {
         "name": "clicks",
         "rawType": "object",
         "type": "string"
        },
        {
         "name": "impressions",
         "rawType": "object",
         "type": "string"
        },
        {
         "name": "engagement_score",
         "rawType": "object",
         "type": "string"
        },
        {
         "name": "customer_segment",
         "rawType": "object",
         "type": "string"
        },
        {
         "name": "date",
         "rawType": "object",
         "type": "string"
        },
        {
         "name": "total($)",
         "rawType": "object",
         "type": "string"
        }
       ],
       "conversionMethod": "pd.DataFrame",
       "ref": "3dd837cb-6095-4907-ac8a-a43e716caa29",
       "rows": [
        [
         "172134",
         "172134",
         "172135",
         "NexGen Systems",
         "Email",
         "Women 25-34",
         "30 days",
         "Google Ads",
         "0,09",
         "$11,490.00",
         "44.7676",
         "Chicago",
         "Mandarin",
         "719719.00",
         "32063206.00",
         "5,0",
         "Fashionistas",
         "2021-08-08",
         "$11,490.00"
        ]
       ],
       "shape": {
        "columns": 18,
        "rows": 1
       }
      },
      "text/html": [
       "<div>\n",
       "<style scoped>\n",
       "    .dataframe tbody tr th:only-of-type {\n",
       "        vertical-align: middle;\n",
       "    }\n",
       "\n",
       "    .dataframe tbody tr th {\n",
       "        vertical-align: top;\n",
       "    }\n",
       "\n",
       "    .dataframe thead th {\n",
       "        text-align: right;\n",
       "    }\n",
       "</style>\n",
       "<table border=\"1\" class=\"dataframe\">\n",
       "  <thead>\n",
       "    <tr style=\"text-align: right;\">\n",
       "      <th></th>\n",
       "      <th>unnamed:_0</th>\n",
       "      <th>campaign_id</th>\n",
       "      <th>company</th>\n",
       "      <th>campaign_type</th>\n",
       "      <th>target_audience</th>\n",
       "      <th>duration</th>\n",
       "      <th>channel_used</th>\n",
       "      <th>conversion_rate</th>\n",
       "      <th>acquisition_cost</th>\n",
       "      <th>roi</th>\n",
       "      <th>location</th>\n",
       "      <th>language</th>\n",
       "      <th>clicks</th>\n",
       "      <th>impressions</th>\n",
       "      <th>engagement_score</th>\n",
       "      <th>customer_segment</th>\n",
       "      <th>date</th>\n",
       "      <th>total($)</th>\n",
       "    </tr>\n",
       "  </thead>\n",
       "  <tbody>\n",
       "    <tr>\n",
       "      <th>172134</th>\n",
       "      <td>172134</td>\n",
       "      <td>172135</td>\n",
       "      <td>NexGen Systems</td>\n",
       "      <td>Email</td>\n",
       "      <td>Women 25-34</td>\n",
       "      <td>30 days</td>\n",
       "      <td>Google Ads</td>\n",
       "      <td>0,09</td>\n",
       "      <td>$11,490.00</td>\n",
       "      <td>44.7676</td>\n",
       "      <td>Chicago</td>\n",
       "      <td>Mandarin</td>\n",
       "      <td>719719.00</td>\n",
       "      <td>32063206.00</td>\n",
       "      <td>5,0</td>\n",
       "      <td>Fashionistas</td>\n",
       "      <td>2021-08-08</td>\n",
       "      <td>$11,490.00</td>\n",
       "    </tr>\n",
       "  </tbody>\n",
       "</table>\n",
       "</div>"
      ],
      "text/plain": [
       "        unnamed:_0  campaign_id         company campaign_type target_audience  \\\n",
       "172134      172134       172135  NexGen Systems         Email     Women 25-34   \n",
       "\n",
       "       duration channel_used conversion_rate acquisition_cost      roi  \\\n",
       "172134  30 days   Google Ads            0,09       $11,490.00  44.7676   \n",
       "\n",
       "       location  language     clicks  impressions engagement_score  \\\n",
       "172134  Chicago  Mandarin  719719.00  32063206.00              5,0   \n",
       "\n",
       "       customer_segment        date    total($)  \n",
       "172134     Fashionistas  2021-08-08  $11,490.00  "
      ]
     },
     "execution_count": 11,
     "metadata": {},
     "output_type": "execute_result"
    }
   ],
   "source": [
    "df_eda.sample()"
   ]
  },
  {
   "cell_type": "code",
   "execution_count": 12,
   "metadata": {},
   "outputs": [
    {
     "data": {
      "application/vnd.microsoft.datawrangler.viewer.v0+json": {
       "columns": [
        {
         "name": "index",
         "rawType": "int64",
         "type": "integer"
        },
        {
         "name": "campaign_id",
         "rawType": "int64",
         "type": "integer"
        },
        {
         "name": "company",
         "rawType": "object",
         "type": "unknown"
        },
        {
         "name": "campaign_type",
         "rawType": "object",
         "type": "unknown"
        },
        {
         "name": "target_audience",
         "rawType": "object",
         "type": "string"
        },
        {
         "name": "duration",
         "rawType": "object",
         "type": "string"
        },
        {
         "name": "channel_used",
         "rawType": "object",
         "type": "string"
        },
        {
         "name": "conversion_rate",
         "rawType": "object",
         "type": "string"
        },
        {
         "name": "acquisition_cost",
         "rawType": "object",
         "type": "string"
        },
        {
         "name": "roi",
         "rawType": "object",
         "type": "unknown"
        },
        {
         "name": "location",
         "rawType": "object",
         "type": "string"
        },
        {
         "name": "language",
         "rawType": "object",
         "type": "unknown"
        },
        {
         "name": "clicks",
         "rawType": "object",
         "type": "unknown"
        },
        {
         "name": "impressions",
         "rawType": "object",
         "type": "unknown"
        },
        {
         "name": "engagement_score",
         "rawType": "object",
         "type": "string"
        },
        {
         "name": "customer_segment",
         "rawType": "object",
         "type": "string"
        },
        {
         "name": "date",
         "rawType": "object",
         "type": "string"
        },
        {
         "name": "total($)",
         "rawType": "object",
         "type": "string"
        }
       ],
       "conversionMethod": "pd.DataFrame",
       "ref": "643c322a-6ef9-4485-b4ed-d1dbd2943151",
       "rows": [
        [
         "0",
         "1",
         "Innovate Industries",
         null,
         "Men 18-24",
         "30 days",
         "Google Ads",
         "00.0404",
         "$16,174.00",
         "6,29",
         "Chicago",
         "Spanish",
         null,
         "19221922.00",
         "66.00",
         "Health & Wellness",
         "2021-01-01",
         "$16,174.00"
        ],
        [
         "1",
         "2",
         "NexGen Systems",
         "Email",
         "Women 35-44",
         "60 days",
         "Google Ads",
         "00.1212",
         "$11,566.00",
         "5,61",
         "New York",
         "German",
         "116,0",
         "7523,0",
         "7,0",
         "Fashionistas",
         "2021-01-02",
         "$11,566.00"
        ],
        [
         "2",
         "3",
         "Alpha Innovations",
         "Influencer",
         "Men 25-34",
         "30 days",
         "YouTube",
         "00.0707",
         "$10,200.00",
         "7,18",
         "Los Angeles",
         "French",
         null,
         "7698,0",
         "11.00",
         "Outdoor Adventurers",
         "2021-01-03",
         "$10,200.00"
        ],
        [
         "3",
         "4",
         null,
         "Display",
         "All Ages",
         "60 days",
         "YouTube",
         "00.1111",
         "$12,724.00",
         null,
         "Miami",
         "Mandarin",
         "217,0",
         null,
         "7,0",
         "Health & Wellness",
         "2021-01-04",
         "$12,724.00"
        ],
        [
         "4",
         "5",
         "NexGen Systems",
         "Email",
         "Men 25-34",
         "15 days",
         "YouTube",
         "00.0505",
         "$16,452.00",
         "66.55",
         "Los Angeles",
         null,
         "379379.00",
         "4201,0",
         "33.00",
         "Health & Wellness",
         "2021-01-05",
         "$16,452.00"
        ]
       ],
       "shape": {
        "columns": 17,
        "rows": 5
       }
      },
      "text/html": [
       "<div>\n",
       "<style scoped>\n",
       "    .dataframe tbody tr th:only-of-type {\n",
       "        vertical-align: middle;\n",
       "    }\n",
       "\n",
       "    .dataframe tbody tr th {\n",
       "        vertical-align: top;\n",
       "    }\n",
       "\n",
       "    .dataframe thead th {\n",
       "        text-align: right;\n",
       "    }\n",
       "</style>\n",
       "<table border=\"1\" class=\"dataframe\">\n",
       "  <thead>\n",
       "    <tr style=\"text-align: right;\">\n",
       "      <th></th>\n",
       "      <th>campaign_id</th>\n",
       "      <th>company</th>\n",
       "      <th>campaign_type</th>\n",
       "      <th>target_audience</th>\n",
       "      <th>duration</th>\n",
       "      <th>channel_used</th>\n",
       "      <th>conversion_rate</th>\n",
       "      <th>acquisition_cost</th>\n",
       "      <th>roi</th>\n",
       "      <th>location</th>\n",
       "      <th>language</th>\n",
       "      <th>clicks</th>\n",
       "      <th>impressions</th>\n",
       "      <th>engagement_score</th>\n",
       "      <th>customer_segment</th>\n",
       "      <th>date</th>\n",
       "      <th>total($)</th>\n",
       "    </tr>\n",
       "  </thead>\n",
       "  <tbody>\n",
       "    <tr>\n",
       "      <th>0</th>\n",
       "      <td>1</td>\n",
       "      <td>Innovate Industries</td>\n",
       "      <td>NaN</td>\n",
       "      <td>Men 18-24</td>\n",
       "      <td>30 days</td>\n",
       "      <td>Google Ads</td>\n",
       "      <td>00.0404</td>\n",
       "      <td>$16,174.00</td>\n",
       "      <td>6,29</td>\n",
       "      <td>Chicago</td>\n",
       "      <td>Spanish</td>\n",
       "      <td>NaN</td>\n",
       "      <td>19221922.00</td>\n",
       "      <td>66.00</td>\n",
       "      <td>Health &amp; Wellness</td>\n",
       "      <td>2021-01-01</td>\n",
       "      <td>$16,174.00</td>\n",
       "    </tr>\n",
       "    <tr>\n",
       "      <th>1</th>\n",
       "      <td>2</td>\n",
       "      <td>NexGen Systems</td>\n",
       "      <td>Email</td>\n",
       "      <td>Women 35-44</td>\n",
       "      <td>60 days</td>\n",
       "      <td>Google Ads</td>\n",
       "      <td>00.1212</td>\n",
       "      <td>$11,566.00</td>\n",
       "      <td>5,61</td>\n",
       "      <td>New York</td>\n",
       "      <td>German</td>\n",
       "      <td>116,0</td>\n",
       "      <td>7523,0</td>\n",
       "      <td>7,0</td>\n",
       "      <td>Fashionistas</td>\n",
       "      <td>2021-01-02</td>\n",
       "      <td>$11,566.00</td>\n",
       "    </tr>\n",
       "    <tr>\n",
       "      <th>2</th>\n",
       "      <td>3</td>\n",
       "      <td>Alpha Innovations</td>\n",
       "      <td>Influencer</td>\n",
       "      <td>Men 25-34</td>\n",
       "      <td>30 days</td>\n",
       "      <td>YouTube</td>\n",
       "      <td>00.0707</td>\n",
       "      <td>$10,200.00</td>\n",
       "      <td>7,18</td>\n",
       "      <td>Los Angeles</td>\n",
       "      <td>French</td>\n",
       "      <td>NaN</td>\n",
       "      <td>7698,0</td>\n",
       "      <td>11.00</td>\n",
       "      <td>Outdoor Adventurers</td>\n",
       "      <td>2021-01-03</td>\n",
       "      <td>$10,200.00</td>\n",
       "    </tr>\n",
       "    <tr>\n",
       "      <th>3</th>\n",
       "      <td>4</td>\n",
       "      <td>NaN</td>\n",
       "      <td>Display</td>\n",
       "      <td>All Ages</td>\n",
       "      <td>60 days</td>\n",
       "      <td>YouTube</td>\n",
       "      <td>00.1111</td>\n",
       "      <td>$12,724.00</td>\n",
       "      <td>NaN</td>\n",
       "      <td>Miami</td>\n",
       "      <td>Mandarin</td>\n",
       "      <td>217,0</td>\n",
       "      <td>NaN</td>\n",
       "      <td>7,0</td>\n",
       "      <td>Health &amp; Wellness</td>\n",
       "      <td>2021-01-04</td>\n",
       "      <td>$12,724.00</td>\n",
       "    </tr>\n",
       "    <tr>\n",
       "      <th>4</th>\n",
       "      <td>5</td>\n",
       "      <td>NexGen Systems</td>\n",
       "      <td>Email</td>\n",
       "      <td>Men 25-34</td>\n",
       "      <td>15 days</td>\n",
       "      <td>YouTube</td>\n",
       "      <td>00.0505</td>\n",
       "      <td>$16,452.00</td>\n",
       "      <td>66.55</td>\n",
       "      <td>Los Angeles</td>\n",
       "      <td>NaN</td>\n",
       "      <td>379379.00</td>\n",
       "      <td>4201,0</td>\n",
       "      <td>33.00</td>\n",
       "      <td>Health &amp; Wellness</td>\n",
       "      <td>2021-01-05</td>\n",
       "      <td>$16,452.00</td>\n",
       "    </tr>\n",
       "  </tbody>\n",
       "</table>\n",
       "</div>"
      ],
      "text/plain": [
       "   campaign_id              company campaign_type target_audience duration  \\\n",
       "0            1  Innovate Industries           NaN       Men 18-24  30 days   \n",
       "1            2       NexGen Systems         Email     Women 35-44  60 days   \n",
       "2            3    Alpha Innovations    Influencer       Men 25-34  30 days   \n",
       "3            4                  NaN       Display        All Ages  60 days   \n",
       "4            5       NexGen Systems         Email       Men 25-34  15 days   \n",
       "\n",
       "  channel_used conversion_rate acquisition_cost    roi     location  language  \\\n",
       "0   Google Ads         00.0404       $16,174.00   6,29      Chicago   Spanish   \n",
       "1   Google Ads         00.1212       $11,566.00   5,61     New York    German   \n",
       "2      YouTube         00.0707       $10,200.00   7,18  Los Angeles    French   \n",
       "3      YouTube         00.1111       $12,724.00    NaN        Miami  Mandarin   \n",
       "4      YouTube         00.0505       $16,452.00  66.55  Los Angeles       NaN   \n",
       "\n",
       "      clicks  impressions engagement_score     customer_segment        date  \\\n",
       "0        NaN  19221922.00            66.00    Health & Wellness  2021-01-01   \n",
       "1      116,0       7523,0              7,0         Fashionistas  2021-01-02   \n",
       "2        NaN       7698,0            11.00  Outdoor Adventurers  2021-01-03   \n",
       "3      217,0          NaN              7,0    Health & Wellness  2021-01-04   \n",
       "4  379379.00       4201,0            33.00    Health & Wellness  2021-01-05   \n",
       "\n",
       "     total($)  \n",
       "0  $16,174.00  \n",
       "1  $11,566.00  \n",
       "2  $10,200.00  \n",
       "3  $12,724.00  \n",
       "4  $16,452.00  "
      ]
     },
     "execution_count": 12,
     "metadata": {},
     "output_type": "execute_result"
    }
   ],
   "source": [
    "# inplace=True es para que los cambios se implementen de forma efectiva en el df\n",
    "df_eda.drop(columns='unnamed:_0', inplace=True)\n",
    "df_eda.head()"
   ]
  },
  {
   "cell_type": "code",
   "execution_count": 13,
   "metadata": {},
   "outputs": [],
   "source": [
    "df_eda.to_csv(\"../Data/mktgeda_cleaning.csv\",index=False)"
   ]
  }
 ],
 "metadata": {
  "kernelspec": {
   "display_name": "venv",
   "language": "python",
   "name": "python3"
  },
  "language_info": {
   "codemirror_mode": {
    "name": "ipython",
    "version": 3
   },
   "file_extension": ".py",
   "mimetype": "text/x-python",
   "name": "python",
   "nbconvert_exporter": "python",
   "pygments_lexer": "ipython3",
   "version": "3.12.5"
  }
 },
 "nbformat": 4,
 "nbformat_minor": 2
}
