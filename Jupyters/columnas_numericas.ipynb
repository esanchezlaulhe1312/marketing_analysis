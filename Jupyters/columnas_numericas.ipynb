{
 "cells": [
  {
   "cell_type": "code",
   "execution_count": 19,
   "id": "e70783a8",
   "metadata": {},
   "outputs": [],
   "source": [
    "import pandas as pd\n",
    "import numpy as np\n",
    "# pd.set_option...Para ver todas las columnas y decimales de 4 dígitos\n",
    "pd.set_option('display.max_columns',None)\n",
    "pd.set_option('display.float_format', lambda x : '%.4f' % x)\n",
    "import sys\n",
    "sys.path.append('..')\n",
    "from SRC import sp_limpieza as sl\n",
    "from SRC import sp_visual as sv\n",
    "from SRC import sp_nulos_num as snulos\n",
    "from sklearn.experimental import enable_iterative_imputer\n",
    "from sklearn.impute import IterativeImputer"
   ]
  },
  {
   "cell_type": "code",
   "execution_count": 20,
   "id": "e71438f4",
   "metadata": {},
   "outputs": [],
   "source": [
    "df=pd.read_csv(\"../Data/mktgeda_datos_limpios.csv\")"
   ]
  },
  {
   "cell_type": "code",
   "execution_count": 21,
   "id": "999bcf38",
   "metadata": {},
   "outputs": [
    {
     "name": "stdout",
     "output_type": "stream",
     "text": [
      "<class 'pandas.core.frame.DataFrame'>\n",
      "RangeIndex: 209915 entries, 0 to 209914\n",
      "Data columns (total 21 columns):\n",
      " #   Column            Non-Null Count   Dtype  \n",
      "---  ------            --------------   -----  \n",
      " 0   campaign_id       209915 non-null  int64  \n",
      " 1   company           209915 non-null  object \n",
      " 2   campaign_type     209915 non-null  object \n",
      " 3   duration          191309 non-null  float64\n",
      " 4   channel_used      209915 non-null  object \n",
      " 5   conversion_rate   200471 non-null  float64\n",
      " 6   roi               173439 non-null  float64\n",
      " 7   location          209915 non-null  object \n",
      " 8   language          209915 non-null  object \n",
      " 9   clicks            178736 non-null  float64\n",
      " 10  impressions       188467 non-null  float64\n",
      " 11  engagement_score  186051 non-null  float64\n",
      " 12  customer_segment  209915 non-null  object \n",
      " 13  date              209915 non-null  object \n",
      " 14  total($)          201832 non-null  float64\n",
      " 15  genre             209915 non-null  object \n",
      " 16  ages              209915 non-null  object \n",
      " 17  year              203007 non-null  float64\n",
      " 18  month             203007 non-null  float64\n",
      " 19  day_name          209915 non-null  object \n",
      " 20  quarter           203007 non-null  float64\n",
      "dtypes: float64(10), int64(1), object(10)\n",
      "memory usage: 33.6+ MB\n"
     ]
    }
   ],
   "source": [
    "df.info()"
   ]
  },
  {
   "cell_type": "code",
   "execution_count": 22,
   "id": "8e98d988",
   "metadata": {},
   "outputs": [
    {
     "data": {
      "text/plain": [
       "['duration',\n",
       " 'conversion_rate',\n",
       " 'roi',\n",
       " 'clicks',\n",
       " 'impressions',\n",
       " 'engagement_score',\n",
       " 'total($)']"
      ]
     },
     "execution_count": 22,
     "metadata": {},
     "output_type": "execute_result"
    }
   ],
   "source": [
    "columnas_num=df.select_dtypes(include=np.number).columns.tolist()\n",
    "lista_eliminar=['campaign_id','year', 'month','quarter']\n",
    "for col in lista_eliminar:\n",
    "  columnas_num.remove(col)\n",
    "columnas_num"
   ]
  },
  {
   "cell_type": "code",
   "execution_count": 23,
   "id": "3069aa96",
   "metadata": {},
   "outputs": [
    {
     "data": {
      "application/vnd.microsoft.datawrangler.viewer.v0+json": {
       "columns": [
        {
         "name": "index",
         "rawType": "object",
         "type": "string"
        },
        {
         "name": "count",
         "rawType": "float64",
         "type": "float"
        },
        {
         "name": "mean",
         "rawType": "float64",
         "type": "float"
        },
        {
         "name": "std",
         "rawType": "float64",
         "type": "float"
        },
        {
         "name": "min",
         "rawType": "float64",
         "type": "float"
        },
        {
         "name": "25%",
         "rawType": "float64",
         "type": "float"
        },
        {
         "name": "50%",
         "rawType": "float64",
         "type": "float"
        },
        {
         "name": "75%",
         "rawType": "float64",
         "type": "float"
        },
        {
         "name": "max",
         "rawType": "float64",
         "type": "float"
        }
       ],
       "conversionMethod": "pd.DataFrame",
       "ref": "32679f29-944d-4fc7-8aa2-5142eddc2284",
       "rows": [
        [
         "duration",
         "191309.0",
         "37.5035",
         "16.7443",
         "15.0",
         "30.0",
         "30.0",
         "45.0",
         "60.0"
        ],
        [
         "conversion_rate",
         "200471.0",
         "0.0808",
         "0.041",
         "0.01",
         "0.05",
         "0.0808",
         "0.12",
         "0.1515"
        ],
        [
         "roi",
         "173439.0",
         "27.5304",
         "26.1923",
         "2.0",
         "5.01",
         "8.0",
         "55.0",
         "88.0"
        ],
        [
         "clicks",
         "178736.0",
         "280253.2882",
         "399127.9838",
         "100.0",
         "552.0",
         "101101.0",
         "548548.0",
         "10001000.0"
        ],
        [
         "impressions",
         "188467.0",
         "27614356.692",
         "34140998.4982",
         "1000.0",
         "5508.0",
         "9996.0",
         "55235523.0",
         "1000010000.0"
        ],
        [
         "engagement_score",
         "186051.0",
         "77.9064",
         "215.8253",
         "1.0",
         "5.0",
         "10.0",
         "66.0",
         "1010.0"
        ],
        [
         "total($)",
         "201832.0",
         "12503.9995",
         "4338.1943",
         "5000.0",
         "8740.0",
         "12496.0",
         "16261.0",
         "20000.0"
        ]
       ],
       "shape": {
        "columns": 8,
        "rows": 7
       }
      },
      "text/html": [
       "<div>\n",
       "<style scoped>\n",
       "    .dataframe tbody tr th:only-of-type {\n",
       "        vertical-align: middle;\n",
       "    }\n",
       "\n",
       "    .dataframe tbody tr th {\n",
       "        vertical-align: top;\n",
       "    }\n",
       "\n",
       "    .dataframe thead th {\n",
       "        text-align: right;\n",
       "    }\n",
       "</style>\n",
       "<table border=\"1\" class=\"dataframe\">\n",
       "  <thead>\n",
       "    <tr style=\"text-align: right;\">\n",
       "      <th></th>\n",
       "      <th>count</th>\n",
       "      <th>mean</th>\n",
       "      <th>std</th>\n",
       "      <th>min</th>\n",
       "      <th>25%</th>\n",
       "      <th>50%</th>\n",
       "      <th>75%</th>\n",
       "      <th>max</th>\n",
       "    </tr>\n",
       "  </thead>\n",
       "  <tbody>\n",
       "    <tr>\n",
       "      <th>duration</th>\n",
       "      <td>191309.0000</td>\n",
       "      <td>37.5035</td>\n",
       "      <td>16.7443</td>\n",
       "      <td>15.0000</td>\n",
       "      <td>30.0000</td>\n",
       "      <td>30.0000</td>\n",
       "      <td>45.0000</td>\n",
       "      <td>60.0000</td>\n",
       "    </tr>\n",
       "    <tr>\n",
       "      <th>conversion_rate</th>\n",
       "      <td>200471.0000</td>\n",
       "      <td>0.0808</td>\n",
       "      <td>0.0410</td>\n",
       "      <td>0.0100</td>\n",
       "      <td>0.0500</td>\n",
       "      <td>0.0808</td>\n",
       "      <td>0.1200</td>\n",
       "      <td>0.1515</td>\n",
       "    </tr>\n",
       "    <tr>\n",
       "      <th>roi</th>\n",
       "      <td>173439.0000</td>\n",
       "      <td>27.5304</td>\n",
       "      <td>26.1923</td>\n",
       "      <td>2.0000</td>\n",
       "      <td>5.0100</td>\n",
       "      <td>8.0000</td>\n",
       "      <td>55.0000</td>\n",
       "      <td>88.0000</td>\n",
       "    </tr>\n",
       "    <tr>\n",
       "      <th>clicks</th>\n",
       "      <td>178736.0000</td>\n",
       "      <td>280253.2882</td>\n",
       "      <td>399127.9838</td>\n",
       "      <td>100.0000</td>\n",
       "      <td>552.0000</td>\n",
       "      <td>101101.0000</td>\n",
       "      <td>548548.0000</td>\n",
       "      <td>10001000.0000</td>\n",
       "    </tr>\n",
       "    <tr>\n",
       "      <th>impressions</th>\n",
       "      <td>188467.0000</td>\n",
       "      <td>27614356.6920</td>\n",
       "      <td>34140998.4982</td>\n",
       "      <td>1000.0000</td>\n",
       "      <td>5508.0000</td>\n",
       "      <td>9996.0000</td>\n",
       "      <td>55235523.0000</td>\n",
       "      <td>1000010000.0000</td>\n",
       "    </tr>\n",
       "    <tr>\n",
       "      <th>engagement_score</th>\n",
       "      <td>186051.0000</td>\n",
       "      <td>77.9064</td>\n",
       "      <td>215.8253</td>\n",
       "      <td>1.0000</td>\n",
       "      <td>5.0000</td>\n",
       "      <td>10.0000</td>\n",
       "      <td>66.0000</td>\n",
       "      <td>1010.0000</td>\n",
       "    </tr>\n",
       "    <tr>\n",
       "      <th>total($)</th>\n",
       "      <td>201832.0000</td>\n",
       "      <td>12503.9995</td>\n",
       "      <td>4338.1943</td>\n",
       "      <td>5000.0000</td>\n",
       "      <td>8740.0000</td>\n",
       "      <td>12496.0000</td>\n",
       "      <td>16261.0000</td>\n",
       "      <td>20000.0000</td>\n",
       "    </tr>\n",
       "  </tbody>\n",
       "</table>\n",
       "</div>"
      ],
      "text/plain": [
       "                       count          mean           std       min       25%  \\\n",
       "duration         191309.0000       37.5035       16.7443   15.0000   30.0000   \n",
       "conversion_rate  200471.0000        0.0808        0.0410    0.0100    0.0500   \n",
       "roi              173439.0000       27.5304       26.1923    2.0000    5.0100   \n",
       "clicks           178736.0000   280253.2882   399127.9838  100.0000  552.0000   \n",
       "impressions      188467.0000 27614356.6920 34140998.4982 1000.0000 5508.0000   \n",
       "engagement_score 186051.0000       77.9064      215.8253    1.0000    5.0000   \n",
       "total($)         201832.0000    12503.9995     4338.1943 5000.0000 8740.0000   \n",
       "\n",
       "                         50%           75%             max  \n",
       "duration             30.0000       45.0000         60.0000  \n",
       "conversion_rate       0.0808        0.1200          0.1515  \n",
       "roi                   8.0000       55.0000         88.0000  \n",
       "clicks           101101.0000   548548.0000   10001000.0000  \n",
       "impressions        9996.0000 55235523.0000 1000010000.0000  \n",
       "engagement_score     10.0000       66.0000       1010.0000  \n",
       "total($)          12496.0000    16261.0000      20000.0000  "
      ]
     },
     "execution_count": 23,
     "metadata": {},
     "output_type": "execute_result"
    }
   ],
   "source": [
    "df[columnas_num].describe().T.round(4)"
   ]
  },
  {
   "cell_type": "code",
   "execution_count": 24,
   "id": "83f7f2be",
   "metadata": {},
   "outputs": [
    {
     "data": {
      "image/png": "[encoded data removed]",
      "text/plain": [
       "<Figure size 1500x2000 with 14 Axes>"
      ]
     },
     "metadata": {},
     "output_type": "display_data"
    }
   ],
   "source": [
    "sv.subplot_col_num_2(df,columnas_num)"
   ]
  },
  {
   "cell_type": "code",
   "execution_count": 25,
   "id": "93eee0f2",
   "metadata": {},
   "outputs": [
    {
     "data": {
      "text/plain": [
       "np.int64(14)"
      ]
     },
     "execution_count": 25,
     "metadata": {},
     "output_type": "execute_result"
    }
   ],
   "source": [
    "df['impressions'][df['impressions']>800000000].count()"
   ]
  },
  {
   "cell_type": "code",
   "execution_count": 26,
   "id": "13bf499c",
   "metadata": {},
   "outputs": [],
   "source": [
    "dicc_outliers={'impressions':800000000,\n",
    "               'clicks':8000000,\n",
    "               'engagement_score':800}"
   ]
  },
  {
   "cell_type": "code",
   "execution_count": 27,
   "id": "1c110b59",
   "metadata": {},
   "outputs": [
    {
     "name": "stdout",
     "output_type": "stream",
     "text": [
      "Para la columna IMPRESSIONS tenemos 14 outliers, y representa 0.007% del total\n",
      "Para la columna CLICKS tenemos 95 outliers, y representa 0.045% del total\n",
      "Para la columna ENGAGEMENT_SCORE tenemos 9284 outliers, y representa 4.423% del total\n"
     ]
    }
   ],
   "source": [
    "for col, out in dicc_outliers.items():\n",
    "  outliers=df[col][df[col]>out].count()\n",
    "  print(f'Para la columna {col.upper()} tenemos {outliers} outliers, y representa {round(outliers/df.shape[0]*100,3)}% del total')"
   ]
  },
  {
   "cell_type": "code",
   "execution_count": 28,
   "id": "665d39af",
   "metadata": {},
   "outputs": [],
   "source": [
    "df['clicks'] = df['clicks'].apply(lambda x: np.nan if x > 8000000 else x)\n",
    "df['impressions'] = df['impressions'].apply(lambda x: np.nan if x > 800000000 else x)"
   ]
  },
  {
   "cell_type": "code",
   "execution_count": 29,
   "id": "2f36021c",
   "metadata": {},
   "outputs": [
    {
     "data": {
      "application/vnd.microsoft.datawrangler.viewer.v0+json": {
       "columns": [
        {
         "name": "index",
         "rawType": "int64",
         "type": "integer"
        },
        {
         "name": "Column",
         "rawType": "object",
         "type": "string"
        },
        {
         "name": "DataType",
         "rawType": "object",
         "type": "unknown"
        },
        {
         "name": "NullCount",
         "rawType": "int64",
         "type": "integer"
        },
        {
         "name": "Null%",
         "rawType": "float64",
         "type": "float"
        }
       ],
       "conversionMethod": "pd.DataFrame",
       "ref": "219c2ad6-301c-49c5-80d4-c90e0f2ed7c3",
       "rows": [
        [
         "0",
         "duration",
         "float64",
         "18606",
         "8.86358764261725"
        ],
        [
         "1",
         "conversion_rate",
         "float64",
         "9444",
         "4.4989638663268465"
        ],
        [
         "2",
         "roi",
         "float64",
         "36476",
         "17.37655717790534"
        ],
        [
         "3",
         "clicks",
         "float64",
         "31274",
         "14.898411261701163"
        ],
        [
         "4",
         "impressions",
         "float64",
         "21462",
         "10.22413834170974"
        ],
        [
         "5",
         "engagement_score",
         "float64",
         "23864",
         "11.368411023509516"
        ],
        [
         "6",
         "total($)",
         "float64",
         "8083",
         "3.8506061977467065"
        ],
        [
         "7",
         "year",
         "float64",
         "6908",
         "3.29085582259486"
        ],
        [
         "8",
         "month",
         "float64",
         "6908",
         "3.29085582259486"
        ],
        [
         "9",
         "quarter",
         "float64",
         "6908",
         "3.29085582259486"
        ]
       ],
       "shape": {
        "columns": 4,
        "rows": 10
       }
      },
      "text/html": [
       "<div>\n",
       "<style scoped>\n",
       "    .dataframe tbody tr th:only-of-type {\n",
       "        vertical-align: middle;\n",
       "    }\n",
       "\n",
       "    .dataframe tbody tr th {\n",
       "        vertical-align: top;\n",
       "    }\n",
       "\n",
       "    .dataframe thead th {\n",
       "        text-align: right;\n",
       "    }\n",
       "</style>\n",
       "<table border=\"1\" class=\"dataframe\">\n",
       "  <thead>\n",
       "    <tr style=\"text-align: right;\">\n",
       "      <th></th>\n",
       "      <th>Column</th>\n",
       "      <th>DataType</th>\n",
       "      <th>NullCount</th>\n",
       "      <th>Null%</th>\n",
       "    </tr>\n",
       "  </thead>\n",
       "  <tbody>\n",
       "    <tr>\n",
       "      <th>0</th>\n",
       "      <td>duration</td>\n",
       "      <td>float64</td>\n",
       "      <td>18606</td>\n",
       "      <td>8.8636</td>\n",
       "    </tr>\n",
       "    <tr>\n",
       "      <th>1</th>\n",
       "      <td>conversion_rate</td>\n",
       "      <td>float64</td>\n",
       "      <td>9444</td>\n",
       "      <td>4.4990</td>\n",
       "    </tr>\n",
       "    <tr>\n",
       "      <th>2</th>\n",
       "      <td>roi</td>\n",
       "      <td>float64</td>\n",
       "      <td>36476</td>\n",
       "      <td>17.3766</td>\n",
       "    </tr>\n",
       "    <tr>\n",
       "      <th>3</th>\n",
       "      <td>clicks</td>\n",
       "      <td>float64</td>\n",
       "      <td>31274</td>\n",
       "      <td>14.8984</td>\n",
       "    </tr>\n",
       "    <tr>\n",
       "      <th>4</th>\n",
       "      <td>impressions</td>\n",
       "      <td>float64</td>\n",
       "      <td>21462</td>\n",
       "      <td>10.2241</td>\n",
       "    </tr>\n",
       "    <tr>\n",
       "      <th>5</th>\n",
       "      <td>engagement_score</td>\n",
       "      <td>float64</td>\n",
       "      <td>23864</td>\n",
       "      <td>11.3684</td>\n",
       "    </tr>\n",
       "    <tr>\n",
       "      <th>6</th>\n",
       "      <td>total($)</td>\n",
       "      <td>float64</td>\n",
       "      <td>8083</td>\n",
       "      <td>3.8506</td>\n",
       "    </tr>\n",
       "    <tr>\n",
       "      <th>7</th>\n",
       "      <td>year</td>\n",
       "      <td>float64</td>\n",
       "      <td>6908</td>\n",
       "      <td>3.2909</td>\n",
       "    </tr>\n",
       "    <tr>\n",
       "      <th>8</th>\n",
       "      <td>month</td>\n",
       "      <td>float64</td>\n",
       "      <td>6908</td>\n",
       "      <td>3.2909</td>\n",
       "    </tr>\n",
       "    <tr>\n",
       "      <th>9</th>\n",
       "      <td>quarter</td>\n",
       "      <td>float64</td>\n",
       "      <td>6908</td>\n",
       "      <td>3.2909</td>\n",
       "    </tr>\n",
       "  </tbody>\n",
       "</table>\n",
       "</div>"
      ],
      "text/plain": [
       "             Column DataType  NullCount   Null%\n",
       "0          duration  float64      18606  8.8636\n",
       "1   conversion_rate  float64       9444  4.4990\n",
       "2               roi  float64      36476 17.3766\n",
       "3            clicks  float64      31274 14.8984\n",
       "4       impressions  float64      21462 10.2241\n",
       "5  engagement_score  float64      23864 11.3684\n",
       "6          total($)  float64       8083  3.8506\n",
       "7              year  float64       6908  3.2909\n",
       "8             month  float64       6908  3.2909\n",
       "9           quarter  float64       6908  3.2909"
      ]
     },
     "metadata": {},
     "output_type": "display_data"
    },
    {
     "data": {
      "text/plain": [
       "(['duration', 'conversion_rate', 'total($)', 'year', 'month', 'quarter'],\n",
       " ['roi', 'clicks', 'impressions', 'engagement_score'])"
      ]
     },
     "execution_count": 29,
     "metadata": {},
     "output_type": "execute_result"
    }
   ],
   "source": [
    "snulos.calcular_solo_col_null(df)"
   ]
  },
  {
   "cell_type": "code",
   "execution_count": 30,
   "id": "81c1d2e3",
   "metadata": {},
   "outputs": [
    {
     "data": {
      "image/png": "[encoded data removed]",
      "text/plain": [
       "<Figure size 1500x1000 with 6 Axes>"
      ]
     },
     "metadata": {},
     "output_type": "display_data"
    }
   ],
   "source": [
    "lista_columas_fecha=['year','month','quarter']\n",
    "sv.subplot_col_num_2(df,lista_columas_fecha)"
   ]
  },
  {
   "cell_type": "code",
   "execution_count": 31,
   "id": "fbc41b99",
   "metadata": {},
   "outputs": [
    {
     "data": {
      "application/vnd.microsoft.datawrangler.viewer.v0+json": {
       "columns": [
        {
         "name": "index",
         "rawType": "object",
         "type": "string"
        },
        {
         "name": "year",
         "rawType": "float64",
         "type": "float"
        },
        {
         "name": "month",
         "rawType": "float64",
         "type": "float"
        },
        {
         "name": "quarter",
         "rawType": "float64",
         "type": "float"
        }
       ],
       "conversionMethod": "pd.DataFrame",
       "ref": "fb5d3071-54aa-4feb-b2e6-42e4ffcc265a",
       "rows": [
        [
         "count",
         "203007.0",
         "203007.0",
         "203007.0"
        ],
        [
         "mean",
         "2021.0",
         "6.52754831114198",
         "2.51010063692385"
        ],
        [
         "std",
         "0.0",
         "3.4465163501460108",
         "1.1162427359676577"
        ],
        [
         "min",
         "2021.0",
         "1.0",
         "1.0"
        ],
        [
         "25%",
         "2021.0",
         "4.0",
         "2.0"
        ],
        [
         "50%",
         "2021.0",
         "7.0",
         "3.0"
        ],
        [
         "75%",
         "2021.0",
         "10.0",
         "4.0"
        ],
        [
         "max",
         "2021.0",
         "12.0",
         "4.0"
        ]
       ],
       "shape": {
        "columns": 3,
        "rows": 8
       }
      },
      "text/html": [
       "<div>\n",
       "<style scoped>\n",
       "    .dataframe tbody tr th:only-of-type {\n",
       "        vertical-align: middle;\n",
       "    }\n",
       "\n",
       "    .dataframe tbody tr th {\n",
       "        vertical-align: top;\n",
       "    }\n",
       "\n",
       "    .dataframe thead th {\n",
       "        text-align: right;\n",
       "    }\n",
       "</style>\n",
       "<table border=\"1\" class=\"dataframe\">\n",
       "  <thead>\n",
       "    <tr style=\"text-align: right;\">\n",
       "      <th></th>\n",
       "      <th>year</th>\n",
       "      <th>month</th>\n",
       "      <th>quarter</th>\n",
       "    </tr>\n",
       "  </thead>\n",
       "  <tbody>\n",
       "    <tr>\n",
       "      <th>count</th>\n",
       "      <td>203007.0000</td>\n",
       "      <td>203007.0000</td>\n",
       "      <td>203007.0000</td>\n",
       "    </tr>\n",
       "    <tr>\n",
       "      <th>mean</th>\n",
       "      <td>2021.0000</td>\n",
       "      <td>6.5275</td>\n",
       "      <td>2.5101</td>\n",
       "    </tr>\n",
       "    <tr>\n",
       "      <th>std</th>\n",
       "      <td>0.0000</td>\n",
       "      <td>3.4465</td>\n",
       "      <td>1.1162</td>\n",
       "    </tr>\n",
       "    <tr>\n",
       "      <th>min</th>\n",
       "      <td>2021.0000</td>\n",
       "      <td>1.0000</td>\n",
       "      <td>1.0000</td>\n",
       "    </tr>\n",
       "    <tr>\n",
       "      <th>25%</th>\n",
       "      <td>2021.0000</td>\n",
       "      <td>4.0000</td>\n",
       "      <td>2.0000</td>\n",
       "    </tr>\n",
       "    <tr>\n",
       "      <th>50%</th>\n",
       "      <td>2021.0000</td>\n",
       "      <td>7.0000</td>\n",
       "      <td>3.0000</td>\n",
       "    </tr>\n",
       "    <tr>\n",
       "      <th>75%</th>\n",
       "      <td>2021.0000</td>\n",
       "      <td>10.0000</td>\n",
       "      <td>4.0000</td>\n",
       "    </tr>\n",
       "    <tr>\n",
       "      <th>max</th>\n",
       "      <td>2021.0000</td>\n",
       "      <td>12.0000</td>\n",
       "      <td>4.0000</td>\n",
       "    </tr>\n",
       "  </tbody>\n",
       "</table>\n",
       "</div>"
      ],
      "text/plain": [
       "             year       month     quarter\n",
       "count 203007.0000 203007.0000 203007.0000\n",
       "mean    2021.0000      6.5275      2.5101\n",
       "std        0.0000      3.4465      1.1162\n",
       "min     2021.0000      1.0000      1.0000\n",
       "25%     2021.0000      4.0000      2.0000\n",
       "50%     2021.0000      7.0000      3.0000\n",
       "75%     2021.0000     10.0000      4.0000\n",
       "max     2021.0000     12.0000      4.0000"
      ]
     },
     "execution_count": 31,
     "metadata": {},
     "output_type": "execute_result"
    }
   ],
   "source": [
    "df[lista_columas_fecha].describe()"
   ]
  },
  {
   "cell_type": "code",
   "execution_count": 32,
   "id": "c4e659a6",
   "metadata": {},
   "outputs": [
    {
     "data": {
      "application/vnd.microsoft.datawrangler.viewer.v0+json": {
       "columns": [
        {
         "name": "index",
         "rawType": "int64",
         "type": "integer"
        },
        {
         "name": "Column",
         "rawType": "object",
         "type": "string"
        },
        {
         "name": "DataType",
         "rawType": "object",
         "type": "unknown"
        },
        {
         "name": "NullCount",
         "rawType": "int64",
         "type": "integer"
        },
        {
         "name": "Null%",
         "rawType": "float64",
         "type": "float"
        }
       ],
       "conversionMethod": "pd.DataFrame",
       "ref": "4de13176-fa9b-40c8-b5dd-8514b20b896c",
       "rows": [
        [
         "0",
         "duration",
         "float64",
         "18606",
         "8.86358764261725"
        ],
        [
         "1",
         "conversion_rate",
         "float64",
         "9444",
         "4.4989638663268465"
        ],
        [
         "2",
         "roi",
         "float64",
         "36476",
         "17.37655717790534"
        ],
        [
         "3",
         "clicks",
         "float64",
         "31274",
         "14.898411261701163"
        ],
        [
         "4",
         "impressions",
         "float64",
         "21462",
         "10.22413834170974"
        ],
        [
         "5",
         "engagement_score",
         "float64",
         "23864",
         "11.368411023509516"
        ],
        [
         "6",
         "total($)",
         "float64",
         "8083",
         "3.8506061977467065"
        ],
        [
         "7",
         "year",
         "float64",
         "6908",
         "3.29085582259486"
        ],
        [
         "8",
         "month",
         "float64",
         "6908",
         "3.29085582259486"
        ],
        [
         "9",
         "quarter",
         "float64",
         "6908",
         "3.29085582259486"
        ]
       ],
       "shape": {
        "columns": 4,
        "rows": 10
       }
      },
      "text/html": [
       "<div>\n",
       "<style scoped>\n",
       "    .dataframe tbody tr th:only-of-type {\n",
       "        vertical-align: middle;\n",
       "    }\n",
       "\n",
       "    .dataframe tbody tr th {\n",
       "        vertical-align: top;\n",
       "    }\n",
       "\n",
       "    .dataframe thead th {\n",
       "        text-align: right;\n",
       "    }\n",
       "</style>\n",
       "<table border=\"1\" class=\"dataframe\">\n",
       "  <thead>\n",
       "    <tr style=\"text-align: right;\">\n",
       "      <th></th>\n",
       "      <th>Column</th>\n",
       "      <th>DataType</th>\n",
       "      <th>NullCount</th>\n",
       "      <th>Null%</th>\n",
       "    </tr>\n",
       "  </thead>\n",
       "  <tbody>\n",
       "    <tr>\n",
       "      <th>0</th>\n",
       "      <td>duration</td>\n",
       "      <td>float64</td>\n",
       "      <td>18606</td>\n",
       "      <td>8.8636</td>\n",
       "    </tr>\n",
       "    <tr>\n",
       "      <th>1</th>\n",
       "      <td>conversion_rate</td>\n",
       "      <td>float64</td>\n",
       "      <td>9444</td>\n",
       "      <td>4.4990</td>\n",
       "    </tr>\n",
       "    <tr>\n",
       "      <th>2</th>\n",
       "      <td>roi</td>\n",
       "      <td>float64</td>\n",
       "      <td>36476</td>\n",
       "      <td>17.3766</td>\n",
       "    </tr>\n",
       "    <tr>\n",
       "      <th>3</th>\n",
       "      <td>clicks</td>\n",
       "      <td>float64</td>\n",
       "      <td>31274</td>\n",
       "      <td>14.8984</td>\n",
       "    </tr>\n",
       "    <tr>\n",
       "      <th>4</th>\n",
       "      <td>impressions</td>\n",
       "      <td>float64</td>\n",
       "      <td>21462</td>\n",
       "      <td>10.2241</td>\n",
       "    </tr>\n",
       "    <tr>\n",
       "      <th>5</th>\n",
       "      <td>engagement_score</td>\n",
       "      <td>float64</td>\n",
       "      <td>23864</td>\n",
       "      <td>11.3684</td>\n",
       "    </tr>\n",
       "    <tr>\n",
       "      <th>6</th>\n",
       "      <td>total($)</td>\n",
       "      <td>float64</td>\n",
       "      <td>8083</td>\n",
       "      <td>3.8506</td>\n",
       "    </tr>\n",
       "    <tr>\n",
       "      <th>7</th>\n",
       "      <td>year</td>\n",
       "      <td>float64</td>\n",
       "      <td>6908</td>\n",
       "      <td>3.2909</td>\n",
       "    </tr>\n",
       "    <tr>\n",
       "      <th>8</th>\n",
       "      <td>month</td>\n",
       "      <td>float64</td>\n",
       "      <td>6908</td>\n",
       "      <td>3.2909</td>\n",
       "    </tr>\n",
       "    <tr>\n",
       "      <th>9</th>\n",
       "      <td>quarter</td>\n",
       "      <td>float64</td>\n",
       "      <td>6908</td>\n",
       "      <td>3.2909</td>\n",
       "    </tr>\n",
       "  </tbody>\n",
       "</table>\n",
       "</div>"
      ],
      "text/plain": [
       "             Column DataType  NullCount   Null%\n",
       "0          duration  float64      18606  8.8636\n",
       "1   conversion_rate  float64       9444  4.4990\n",
       "2               roi  float64      36476 17.3766\n",
       "3            clicks  float64      31274 14.8984\n",
       "4       impressions  float64      21462 10.2241\n",
       "5  engagement_score  float64      23864 11.3684\n",
       "6          total($)  float64       8083  3.8506\n",
       "7              year  float64       6908  3.2909\n",
       "8             month  float64       6908  3.2909\n",
       "9           quarter  float64       6908  3.2909"
      ]
     },
     "metadata": {},
     "output_type": "display_data"
    }
   ],
   "source": [
    "low_null_cols, high_null_cols=snulos.calcular_solo_col_null(df)"
   ]
  },
  {
   "cell_type": "code",
   "execution_count": 33,
   "id": "9c8ffd87",
   "metadata": {},
   "outputs": [
    {
     "data": {
      "text/plain": [
       "['duration', 'conversion_rate', 'total($)', 'year', 'month', 'quarter']"
      ]
     },
     "execution_count": 33,
     "metadata": {},
     "output_type": "execute_result"
    }
   ],
   "source": [
    "low_null_cols"
   ]
  },
  {
   "cell_type": "code",
   "execution_count": 34,
   "id": "a61c31ba",
   "metadata": {},
   "outputs": [],
   "source": [
    "df_filled_simple=df.fillna({\n",
    "  \"conversion_rate\": df[\"conversion_rate\"].mean(),\n",
    "  \"total($)\": df[\"total($)\"].mean(),\n",
    "  \"year\":2021,\n",
    "  \"month\":df[\"month\"].median(),\n",
    "  \"quarter\": 3\n",
    "})"
   ]
  },
  {
   "cell_type": "code",
   "execution_count": 35,
   "id": "b399235c",
   "metadata": {},
   "outputs": [],
   "source": [
    "df=df.fillna({\n",
    "  \"conversion_rate\": df[\"conversion_rate\"].mean(),\n",
    "  \"total($)\": df[\"total($)\"].mean(),\n",
    "  \"year\":2021,\n",
    "  \"month\":df[\"month\"].median(),\n",
    "  \"quarter\": 3\n",
    "})"
   ]
  },
  {
   "cell_type": "code",
   "execution_count": 36,
   "id": "328018b9",
   "metadata": {},
   "outputs": [
    {
     "data": {
      "application/vnd.microsoft.datawrangler.viewer.v0+json": {
       "columns": [
        {
         "name": "index",
         "rawType": "object",
         "type": "string"
        },
        {
         "name": "count",
         "rawType": "float64",
         "type": "float"
        },
        {
         "name": "mean",
         "rawType": "float64",
         "type": "float"
        },
        {
         "name": "std",
         "rawType": "float64",
         "type": "float"
        },
        {
         "name": "min",
         "rawType": "float64",
         "type": "float"
        },
        {
         "name": "25%",
         "rawType": "float64",
         "type": "float"
        },
        {
         "name": "50%",
         "rawType": "float64",
         "type": "float"
        },
        {
         "name": "75%",
         "rawType": "float64",
         "type": "float"
        },
        {
         "name": "max",
         "rawType": "float64",
         "type": "float"
        }
       ],
       "conversionMethod": "pd.DataFrame",
       "ref": "157dcf92-bc5c-443e-ae50-8e24b16ac2d7",
       "rows": [
        [
         "roi",
         "209915.0",
         "27.529893051758023",
         "23.808254275420722",
         "2.0",
         "5.64",
         "27.206832080989308",
         "44.3737",
         "88.0"
        ],
        [
         "clicks",
         "209915.0",
         "275083.76694213453",
         "304720.38940915326",
         "100.0",
         "630.0",
         "256256.0",
         "470470.0",
         "999999.0"
        ],
        [
         "impressions",
         "209915.0",
         "27542117.200428795",
         "31359913.930868",
         "1000.0",
         "6015.0",
         "20252025.0",
         "50095009.0",
         "99999999.0"
        ],
        [
         "engagement_score",
         "209915.0",
         "77.9070999534243",
         "203.18755870111852",
         "1.0",
         "6.0",
         "22.0",
         "77.0",
         "1010.0"
        ]
       ],
       "shape": {
        "columns": 8,
        "rows": 4
       }
      },
      "text/html": [
       "<div>\n",
       "<style scoped>\n",
       "    .dataframe tbody tr th:only-of-type {\n",
       "        vertical-align: middle;\n",
       "    }\n",
       "\n",
       "    .dataframe tbody tr th {\n",
       "        vertical-align: top;\n",
       "    }\n",
       "\n",
       "    .dataframe thead th {\n",
       "        text-align: right;\n",
       "    }\n",
       "</style>\n",
       "<table border=\"1\" class=\"dataframe\">\n",
       "  <thead>\n",
       "    <tr style=\"text-align: right;\">\n",
       "      <th></th>\n",
       "      <th>count</th>\n",
       "      <th>mean</th>\n",
       "      <th>std</th>\n",
       "      <th>min</th>\n",
       "      <th>25%</th>\n",
       "      <th>50%</th>\n",
       "      <th>75%</th>\n",
       "      <th>max</th>\n",
       "    </tr>\n",
       "  </thead>\n",
       "  <tbody>\n",
       "    <tr>\n",
       "      <th>roi</th>\n",
       "      <td>209915.0000</td>\n",
       "      <td>27.5299</td>\n",
       "      <td>23.8083</td>\n",
       "      <td>2.0000</td>\n",
       "      <td>5.6400</td>\n",
       "      <td>27.2068</td>\n",
       "      <td>44.3737</td>\n",
       "      <td>88.0000</td>\n",
       "    </tr>\n",
       "    <tr>\n",
       "      <th>clicks</th>\n",
       "      <td>209915.0000</td>\n",
       "      <td>275083.7669</td>\n",
       "      <td>304720.3894</td>\n",
       "      <td>100.0000</td>\n",
       "      <td>630.0000</td>\n",
       "      <td>256256.0000</td>\n",
       "      <td>470470.0000</td>\n",
       "      <td>999999.0000</td>\n",
       "    </tr>\n",
       "    <tr>\n",
       "      <th>impressions</th>\n",
       "      <td>209915.0000</td>\n",
       "      <td>27542117.2004</td>\n",
       "      <td>31359913.9309</td>\n",
       "      <td>1000.0000</td>\n",
       "      <td>6015.0000</td>\n",
       "      <td>20252025.0000</td>\n",
       "      <td>50095009.0000</td>\n",
       "      <td>99999999.0000</td>\n",
       "    </tr>\n",
       "    <tr>\n",
       "      <th>engagement_score</th>\n",
       "      <td>209915.0000</td>\n",
       "      <td>77.9071</td>\n",
       "      <td>203.1876</td>\n",
       "      <td>1.0000</td>\n",
       "      <td>6.0000</td>\n",
       "      <td>22.0000</td>\n",
       "      <td>77.0000</td>\n",
       "      <td>1010.0000</td>\n",
       "    </tr>\n",
       "  </tbody>\n",
       "</table>\n",
       "</div>"
      ],
      "text/plain": [
       "                       count          mean           std       min       25%  \\\n",
       "roi              209915.0000       27.5299       23.8083    2.0000    5.6400   \n",
       "clicks           209915.0000   275083.7669   304720.3894  100.0000  630.0000   \n",
       "impressions      209915.0000 27542117.2004 31359913.9309 1000.0000 6015.0000   \n",
       "engagement_score 209915.0000       77.9071      203.1876    1.0000    6.0000   \n",
       "\n",
       "                           50%           75%           max  \n",
       "roi                    27.2068       44.3737       88.0000  \n",
       "clicks             256256.0000   470470.0000   999999.0000  \n",
       "impressions      20252025.0000 50095009.0000 99999999.0000  \n",
       "engagement_score       22.0000       77.0000     1010.0000  "
      ]
     },
     "metadata": {},
     "output_type": "display_data"
    }
   ],
   "source": [
    "df,col_iterative=snulos.imputar_iterative(df,high_null_cols)"
   ]
  },
  {
   "cell_type": "code",
   "execution_count": 37,
   "id": "75428ad3",
   "metadata": {},
   "outputs": [],
   "source": [
    "df.drop(columns=high_null_cols,inplace=True)"
   ]
  },
  {
   "cell_type": "code",
   "execution_count": 38,
   "id": "f8b1c952",
   "metadata": {},
   "outputs": [],
   "source": [
    "df.to_csv('../Data/mktgeda_datos_limpios.csv',index=False)"
   ]
  }
 ],
 "metadata": {
  "kernelspec": {
   "display_name": "venv",
   "language": "python",
   "name": "python3"
  },
  "language_info": {
   "codemirror_mode": {
    "name": "ipython",
    "version": 3
   },
   "file_extension": ".py",
   "mimetype": "text/x-python",
   "name": "python",
   "nbconvert_exporter": "python",
   "pygments_lexer": "ipython3",
   "version": "3.12.5"
  }
 },
 "nbformat": 4,
 "nbformat_minor": 5
}
