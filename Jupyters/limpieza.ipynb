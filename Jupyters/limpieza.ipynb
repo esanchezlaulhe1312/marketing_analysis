{
 "cells": [
  {
   "cell_type": "code",
   "execution_count": 1,
   "id": "0744341c",
   "metadata": {},
   "outputs": [],
   "source": [
    "import pandas as pd\n",
    "# import sys(...) es para importar el archivo .py de soporte que hemos creado en la carpeta SRC para guardar las funciones -de este modo busca en una carpeta anterior\n",
    "import sys\n",
    "sys.path.append(\"..\")\n",
    "from SRC import sp_limpieza as sp_limpieza\n",
    "import numpy as np"
   ]
  },
  {
   "cell_type": "code",
   "execution_count": 2,
   "id": "2217e881",
   "metadata": {},
   "outputs": [],
   "source": [
    "df_cleaning=pd.read_csv(\"../Data/mktgeda_cleaning.csv\")"
   ]
  },
  {
   "cell_type": "code",
   "execution_count": 3,
   "id": "429f05cf",
   "metadata": {},
   "outputs": [
    {
     "name": "stdout",
     "output_type": "stream",
     "text": [
      "------------------------\n",
      "INFO\n",
      "<class 'pandas.core.frame.DataFrame'>\n",
      "RangeIndex: 209915 entries, 0 to 209914\n",
      "Data columns (total 17 columns):\n",
      " #   Column            Non-Null Count   Dtype \n",
      "---  ------            --------------   ----- \n",
      " 0   campaign_id       209915 non-null  int64 \n",
      " 1   company           194734 non-null  object\n",
      " 2   campaign_type     191535 non-null  object\n",
      " 3   target_audience   181301 non-null  object\n",
      " 4   duration          191309 non-null  object\n",
      " 5   channel_used      187421 non-null  object\n",
      " 6   conversion_rate   200471 non-null  object\n",
      " 7   acquisition_cost  201832 non-null  object\n",
      " 8   roi               173439 non-null  object\n",
      " 9   location          184543 non-null  object\n",
      " 10  language          182907 non-null  object\n",
      " 11  clicks            178736 non-null  object\n",
      " 12  impressions       188467 non-null  object\n",
      " 13  engagement_score  186051 non-null  object\n",
      " 14  customer_segment  196763 non-null  object\n",
      " 15  date              203007 non-null  object\n",
      " 16  total($)          201832 non-null  object\n",
      "dtypes: int64(1), object(16)\n",
      "memory usage: 27.2+ MB\n",
      "------------------------\n",
      "NULOS\n",
      "------------------------\n",
      "DUPLICADOS\n",
      "17\n",
      "------------------------\n",
      "FRECUENCIA DE TIPOS DE DATOS POR COLUMNAS\n",
      "company\n",
      "TechCorp               39210\n",
      "Alpha Innovations      39090\n",
      "DataTech Solutions     38889\n",
      "NexGen Systems         38879\n",
      "Innovate Industries    38666\n",
      "Name: count, dtype: int64\n",
      "********************\n",
      "campaign_type\n",
      "Influencer      38430\n",
      "Search          38319\n",
      "Email           38292\n",
      "Social Media    38280\n",
      "Display         38214\n",
      "Name: count, dtype: int64\n",
      "********************\n",
      "target_audience\n",
      "Men 18-24      36633\n",
      "Women 25-34    36349\n",
      "All Ages       36243\n",
      "Men 25-34      36170\n",
      "Women 35-44    35906\n",
      "Name: count, dtype: int64\n",
      "********************\n",
      "duration\n",
      "30 days    48123\n",
      "45 days    47906\n",
      "60 days    47691\n",
      "15 days    47589\n",
      "Name: count, dtype: int64\n",
      "********************\n",
      "channel_used\n",
      "Email         31461\n",
      "Instagram     31428\n",
      "Google Ads    31299\n",
      "YouTube       31297\n",
      "Website       31149\n",
      "Facebook      30787\n",
      "Name: count, dtype: int64\n",
      "********************\n",
      "conversion_rate\n",
      "00.1313    7383\n",
      "0,11       7315\n",
      "00.11      7266\n",
      "0,03       7262\n",
      "0,1        7235\n",
      "00.0606    7227\n",
      "00.0202    7226\n",
      "0,04       7225\n",
      "0,02       7200\n",
      "00.0909    7183\n",
      "0,06       7183\n",
      "0,13       7173\n",
      "00.1212    7169\n",
      "0,12       7167\n",
      "00.0404    7158\n",
      "00.1111    7157\n",
      "0,09       7157\n",
      "0,08       7132\n",
      "00.0808    7126\n",
      "0,05       7118\n",
      "00.1414    7089\n",
      "0,07       7058\n",
      "00.0505    7038\n",
      "0,14       7027\n",
      "00.0707    7003\n",
      "00.0303    6992\n",
      "0,15       3619\n",
      "00.1515    3549\n",
      "00.0101    3519\n",
      "0,01       3515\n",
      "Name: count, dtype: int64\n",
      "********************\n",
      "acquisition_cost\n",
      "$16,578.00    33\n",
      "$6,570.00     30\n",
      "$8,503.00     30\n",
      "$17,380.00    29\n",
      "$9,128.00     29\n",
      "              ..\n",
      "$9,912.00      3\n",
      "$7,878.00      3\n",
      "$14,068.00     2\n",
      "$9,623.00      2\n",
      "$18,117.00     2\n",
      "Name: count, Length: 15001, dtype: int64\n",
      "********************\n",
      "roi\n",
      "6,05       189\n",
      "7,43       186\n",
      "77.4343    183\n",
      "44.2222    182\n",
      "5,95       181\n",
      "          ... \n",
      "3,93       105\n",
      "22.00       76\n",
      "88.00       74\n",
      "8,0         72\n",
      "2,0         62\n",
      "Name: count, Length: 1202, dtype: int64\n",
      "********************\n",
      "location\n",
      "Miami          37240\n",
      "Chicago        36972\n",
      "Los Angeles    36897\n",
      "New York       36779\n",
      "Houston        36655\n",
      "Name: count, dtype: int64\n",
      "********************\n",
      "language\n",
      "Mandarin    36841\n",
      "Spanish     36747\n",
      "German      36571\n",
      "English     36424\n",
      "French      36324\n",
      "Name: count, dtype: int64\n",
      "********************\n",
      "clicks\n",
      "483,0        134\n",
      "319,0        134\n",
      "297,0        131\n",
      "646,0        130\n",
      "140,0        129\n",
      "            ... \n",
      "287,0         73\n",
      "603603.00     73\n",
      "277277.00     72\n",
      "553,0         71\n",
      "894894.00     71\n",
      "Name: count, Length: 1802, dtype: int64\n",
      "********************\n",
      "impressions\n",
      "8037,0         25\n",
      "42894289.00    25\n",
      "67076707.00    25\n",
      "9798,0         25\n",
      "24032403.00    25\n",
      "               ..\n",
      "91009100.00     1\n",
      "7088,0          1\n",
      "6834,0          1\n",
      "5522,0          1\n",
      "6325,0          1\n",
      "Name: count, Length: 18002, dtype: int64\n",
      "********************\n",
      "engagement_score\n",
      "5,0        9453\n",
      "99.00      9436\n",
      "22.00      9382\n",
      "3,0        9381\n",
      "2,0        9360\n",
      "4,0        9348\n",
      "44.00      9314\n",
      "10,0       9309\n",
      "9,0        9298\n",
      "1,0        9291\n",
      "1010.00    9284\n",
      "66.00      9282\n",
      "77.00      9282\n",
      "88.00      9268\n",
      "8,0        9256\n",
      "7,0        9250\n",
      "55.00      9224\n",
      "33.00      9221\n",
      "6,0        9219\n",
      "11.00      9193\n",
      "Name: count, dtype: int64\n",
      "********************\n",
      "customer_segment\n",
      "Foodies                39571\n",
      "Tech Enthusiasts       39518\n",
      "Outdoor Adventurers    39324\n",
      "Health & Wellness      39212\n",
      "Fashionistas           39138\n",
      "Name: count, dtype: int64\n",
      "********************\n",
      "date\n",
      "2021-09-10    579\n",
      "2021-09-03    575\n",
      "2021-08-18    572\n",
      "2021-05-07    571\n",
      "2021-04-16    571\n",
      "             ... \n",
      "2021-04-11    542\n",
      "2021-01-05    542\n",
      "2021-11-23    542\n",
      "2021-05-01    541\n",
      "2021-05-31    539\n",
      "Name: count, Length: 365, dtype: int64\n",
      "********************\n",
      "total($)\n",
      "$16,578.00    33\n",
      "$6,570.00     30\n",
      "$8,503.00     30\n",
      "$17,380.00    29\n",
      "$9,128.00     29\n",
      "              ..\n",
      "$9,912.00      3\n",
      "$7,878.00      3\n",
      "$14,068.00     2\n",
      "$9,623.00      2\n",
      "$18,117.00     2\n",
      "Name: count, Length: 15001, dtype: int64\n",
      "********************\n"
     ]
    }
   ],
   "source": [
    "sp_limpieza.eda_preliminar(df_cleaning)"
   ]
  },
  {
   "cell_type": "code",
   "execution_count": 4,
   "id": "583f889a",
   "metadata": {},
   "outputs": [
    {
     "data": {
      "text/plain": [
       "campaign_id          int64\n",
       "company             object\n",
       "campaign_type       object\n",
       "target_audience     object\n",
       "duration            object\n",
       "channel_used        object\n",
       "conversion_rate     object\n",
       "acquisition_cost    object\n",
       "roi                 object\n",
       "location            object\n",
       "language            object\n",
       "clicks              object\n",
       "impressions         object\n",
       "engagement_score    object\n",
       "customer_segment    object\n",
       "date                object\n",
       "total($)            object\n",
       "dtype: object"
      ]
     },
     "execution_count": 4,
     "metadata": {},
     "output_type": "execute_result"
    }
   ],
   "source": [
    "df_cleaning.dtypes"
   ]
  },
  {
   "cell_type": "code",
   "execution_count": 5,
   "id": "4d25f85d",
   "metadata": {},
   "outputs": [],
   "source": [
    "sp_limpieza.valores_minus(df_cleaning)"
   ]
  },
  {
   "cell_type": "code",
   "execution_count": 6,
   "id": "4f864887",
   "metadata": {},
   "outputs": [
    {
     "data": {
      "text/plain": [
       "'30'"
      ]
     },
     "execution_count": 6,
     "metadata": {},
     "output_type": "execute_result"
    }
   ],
   "source": [
    "# Llamar al primer registro (en python empieza por 0) de la columna 'duración'. Output = '30 days'\n",
    "df_cleaning['duration'][0]\n",
    "# .split mantiene el valor númerico de la columna duration - '30 [0] days [1]'\n",
    "df_cleaning['duration'][0].split()[0]"
   ]
  },
  {
   "cell_type": "code",
   "execution_count": 7,
   "id": "89ea1159",
   "metadata": {},
   "outputs": [
    {
     "data": {
      "text/plain": [
       "array(['30 days', '60 days', '15 days', '45 days', nan], dtype=object)"
      ]
     },
     "execution_count": 7,
     "metadata": {},
     "output_type": "execute_result"
    }
   ],
   "source": [
    "# .unique para ver los valores únicos de la columna\n",
    "df_cleaning['duration'].unique()"
   ]
  },
  {
   "cell_type": "code",
   "execution_count": 8,
   "id": "1d43776b",
   "metadata": {},
   "outputs": [],
   "source": [
    "df_cleaning['duration']=df_cleaning['duration'].apply(lambda x: x.split()[0] if isinstance(x,str) else x)"
   ]
  },
  {
   "cell_type": "code",
   "execution_count": 9,
   "id": "5853e30b",
   "metadata": {},
   "outputs": [],
   "source": [
    "dolar=['acquisition_cost','total($)']\n",
    "sp_limpieza.dolares(df_cleaning,dolar)"
   ]
  },
  {
   "cell_type": "code",
   "execution_count": 10,
   "id": "17a0ce01",
   "metadata": {},
   "outputs": [],
   "source": [
    "df_cleaning['acquisition_cost'].equals(df_cleaning['total($)'])\n",
    "df_cleaning.drop('acquisition_cost', axis=1, inplace=True)"
   ]
  },
  {
   "cell_type": "code",
   "execution_count": 11,
   "id": "e99a4acc",
   "metadata": {},
   "outputs": [],
   "source": [
    "coma=['conversion_rate','roi','clicks','impressions','engagement_score']\n",
    "sp_limpieza.comas(df_cleaning,coma)"
   ]
  },
  {
   "cell_type": "code",
   "execution_count": 12,
   "id": "33133adc",
   "metadata": {},
   "outputs": [],
   "source": [
    "df_cleaning[['genre','ages']]=df_cleaning['target_audience'].str.split(' ', expand=True)"
   ]
  },
  {
   "cell_type": "code",
   "execution_count": 13,
   "id": "7e6731f3",
   "metadata": {},
   "outputs": [],
   "source": [
    "df_cleaning['genre']= df_cleaning['genre'].apply(lambda x:np.nan if x == 'all' else x)\n",
    "df_cleaning['ages']=df_cleaning['ages'].apply(lambda x:'all ages' if x == 'ages' else x)\n",
    "df_cleaning.drop('target_audience',axis=1,inplace = True)"
   ]
  },
  {
   "cell_type": "code",
   "execution_count": 14,
   "id": "ad6646e0",
   "metadata": {},
   "outputs": [],
   "source": [
    "sp_limpieza.convertir_columnas(df_cleaning,'%Y-%m-%d')"
   ]
  },
  {
   "cell_type": "code",
   "execution_count": 15,
   "id": "37af542a",
   "metadata": {},
   "outputs": [],
   "source": [
    "quitar_espacios=sp_limpieza.quitar_espacios(df_cleaning)\n",
    "quitar_espacios"
   ]
  },
  {
   "cell_type": "code",
   "execution_count": 16,
   "id": "9f09350a",
   "metadata": {},
   "outputs": [],
   "source": [
    "df_cleaning['year']= df_cleaning['date'].dt.year\n",
    "df_cleaning['month']= df_cleaning['date'].dt.month\n",
    "df_cleaning['day_name']= df_cleaning['date'].dt.day_name()\n",
    "df_cleaning['quarter']= df_cleaning['date'].dt.quarter"
   ]
  },
  {
   "cell_type": "code",
   "execution_count": 17,
   "id": "788a9351",
   "metadata": {},
   "outputs": [],
   "source": [
    "sp_limpieza.valores_minus(df_cleaning)"
   ]
  },
  {
   "cell_type": "code",
   "execution_count": 18,
   "id": "7bddbf56",
   "metadata": {},
   "outputs": [],
   "source": [
    "df_cleaning.to_csv('../Data/mktgeda_datos_limpios.csv', index=False)"
   ]
  }
 ],
 "metadata": {
  "kernelspec": {
   "display_name": "venv",
   "language": "python",
   "name": "python3"
  },
  "language_info": {
   "codemirror_mode": {
    "name": "ipython",
    "version": 3
   },
   "file_extension": ".py",
   "mimetype": "text/x-python",
   "name": "python",
   "nbconvert_exporter": "python",
   "pygments_lexer": "ipython3",
   "version": "3.12.5"
  }
 },
 "nbformat": 4,
 "nbformat_minor": 5
}
